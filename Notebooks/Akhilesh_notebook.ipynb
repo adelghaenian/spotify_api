{
  "nbformat": 4,
  "nbformat_minor": 0,
  "metadata": {
    "colab": {
      "name": "Akhilesh_notebook.ipynb",
      "provenance": [],
      "collapsed_sections": []
    },
    "kernelspec": {
      "name": "python3",
      "display_name": "Python 3"
    },
    "language_info": {
      "name": "python"
    }
  },
  "cells": [
    {
      "cell_type": "code",
      "metadata": {
        "id": "PYxvy7owU3TG"
      },
      "source": [
        "import pandas as pd\n",
        "artists  = pd.read_csv(\"/content/drive/MyDrive/VA_Project/artist.csv\")\n",
        "songs  = pd.read_csv(\"/content/drive/MyDrive/VA_Project/songs.csv\")\n"
      ],
      "execution_count": 2,
      "outputs": []
    },
    {
      "cell_type": "code",
      "metadata": {
        "colab": {
          "base_uri": "https://localhost:8080/",
          "height": 423
        },
        "id": "3ENtnmhxf9os",
        "outputId": "41b5a683-cdfd-47d1-de26-e0f857e39240"
      },
      "source": [
        "import pandas as pd\n",
        "songss_x = pd.read_excel(\"/content/drive/MyDrive/VA_Project/songs_dataset_x_excel.xlsx\")\n",
        "songss_x"
      ],
      "execution_count": null,
      "outputs": [
        {
          "output_type": "execute_result",
          "data": {
            "text/html": [
              "<div>\n",
              "<style scoped>\n",
              "    .dataframe tbody tr th:only-of-type {\n",
              "        vertical-align: middle;\n",
              "    }\n",
              "\n",
              "    .dataframe tbody tr th {\n",
              "        vertical-align: top;\n",
              "    }\n",
              "\n",
              "    .dataframe thead th {\n",
              "        text-align: right;\n",
              "    }\n",
              "</style>\n",
              "<table border=\"1\" class=\"dataframe\">\n",
              "  <thead>\n",
              "    <tr style=\"text-align: right;\">\n",
              "      <th></th>\n",
              "      <th>acousticness</th>\n",
              "      <th>danceability</th>\n",
              "      <th>duration_ms</th>\n",
              "      <th>energy</th>\n",
              "      <th>instrumentalness</th>\n",
              "      <th>key</th>\n",
              "      <th>liveness</th>\n",
              "      <th>loudness</th>\n",
              "      <th>speechiness</th>\n",
              "      <th>tempo</th>\n",
              "      <th>valence</th>\n",
              "    </tr>\n",
              "  </thead>\n",
              "  <tbody>\n",
              "    <tr>\n",
              "      <th>0</th>\n",
              "      <td>0.9950</td>\n",
              "      <td>0.708</td>\n",
              "      <td>0.028442</td>\n",
              "      <td>0.1950</td>\n",
              "      <td>0.563000</td>\n",
              "      <td>0.909091</td>\n",
              "      <td>0.1510</td>\n",
              "      <td>0.745000</td>\n",
              "      <td>0.0506</td>\n",
              "      <td>0.485348</td>\n",
              "      <td>0.7790</td>\n",
              "    </tr>\n",
              "    <tr>\n",
              "      <th>1</th>\n",
              "      <td>0.9940</td>\n",
              "      <td>0.379</td>\n",
              "      <td>0.051316</td>\n",
              "      <td>0.0135</td>\n",
              "      <td>0.901000</td>\n",
              "      <td>0.727273</td>\n",
              "      <td>0.0763</td>\n",
              "      <td>0.494026</td>\n",
              "      <td>0.0462</td>\n",
              "      <td>0.344019</td>\n",
              "      <td>0.0767</td>\n",
              "    </tr>\n",
              "    <tr>\n",
              "      <th>2</th>\n",
              "      <td>0.6040</td>\n",
              "      <td>0.749</td>\n",
              "      <td>0.018374</td>\n",
              "      <td>0.2200</td>\n",
              "      <td>0.000000</td>\n",
              "      <td>0.454545</td>\n",
              "      <td>0.1190</td>\n",
              "      <td>0.627609</td>\n",
              "      <td>0.9290</td>\n",
              "      <td>0.439086</td>\n",
              "      <td>0.8800</td>\n",
              "    </tr>\n",
              "    <tr>\n",
              "      <th>3</th>\n",
              "      <td>0.9950</td>\n",
              "      <td>0.781</td>\n",
              "      <td>0.032538</td>\n",
              "      <td>0.1300</td>\n",
              "      <td>0.887000</td>\n",
              "      <td>0.090909</td>\n",
              "      <td>0.1110</td>\n",
              "      <td>0.708887</td>\n",
              "      <td>0.0926</td>\n",
              "      <td>0.442470</td>\n",
              "      <td>0.7200</td>\n",
              "    </tr>\n",
              "    <tr>\n",
              "      <th>4</th>\n",
              "      <td>0.9900</td>\n",
              "      <td>0.210</td>\n",
              "      <td>0.126450</td>\n",
              "      <td>0.2040</td>\n",
              "      <td>0.908000</td>\n",
              "      <td>1.000000</td>\n",
              "      <td>0.0980</td>\n",
              "      <td>0.676079</td>\n",
              "      <td>0.0424</td>\n",
              "      <td>0.254614</td>\n",
              "      <td>0.0693</td>\n",
              "    </tr>\n",
              "    <tr>\n",
              "      <th>...</th>\n",
              "      <td>...</td>\n",
              "      <td>...</td>\n",
              "      <td>...</td>\n",
              "      <td>...</td>\n",
              "      <td>...</td>\n",
              "      <td>...</td>\n",
              "      <td>...</td>\n",
              "      <td>...</td>\n",
              "      <td>...</td>\n",
              "      <td>...</td>\n",
              "      <td>...</td>\n",
              "    </tr>\n",
              "    <tr>\n",
              "      <th>169904</th>\n",
              "      <td>0.1730</td>\n",
              "      <td>0.875</td>\n",
              "      <td>0.029396</td>\n",
              "      <td>0.4430</td>\n",
              "      <td>0.000032</td>\n",
              "      <td>0.090909</td>\n",
              "      <td>0.0891</td>\n",
              "      <td>0.822786</td>\n",
              "      <td>0.1430</td>\n",
              "      <td>0.409732</td>\n",
              "      <td>0.3060</td>\n",
              "    </tr>\n",
              "    <tr>\n",
              "      <th>169905</th>\n",
              "      <td>0.0167</td>\n",
              "      <td>0.719</td>\n",
              "      <td>0.030076</td>\n",
              "      <td>0.3850</td>\n",
              "      <td>0.031300</td>\n",
              "      <td>0.727273</td>\n",
              "      <td>0.1110</td>\n",
              "      <td>0.768820</td>\n",
              "      <td>0.0403</td>\n",
              "      <td>0.524395</td>\n",
              "      <td>0.2700</td>\n",
              "    </tr>\n",
              "    <tr>\n",
              "      <th>169906</th>\n",
              "      <td>0.5380</td>\n",
              "      <td>0.514</td>\n",
              "      <td>0.032527</td>\n",
              "      <td>0.5390</td>\n",
              "      <td>0.002330</td>\n",
              "      <td>0.636364</td>\n",
              "      <td>0.1080</td>\n",
              "      <td>0.793485</td>\n",
              "      <td>0.1050</td>\n",
              "      <td>0.506778</td>\n",
              "      <td>0.1530</td>\n",
              "    </tr>\n",
              "    <tr>\n",
              "      <th>169907</th>\n",
              "      <td>0.0714</td>\n",
              "      <td>0.646</td>\n",
              "      <td>0.030046</td>\n",
              "      <td>0.7610</td>\n",
              "      <td>0.000000</td>\n",
              "      <td>0.090909</td>\n",
              "      <td>0.2220</td>\n",
              "      <td>0.899585</td>\n",
              "      <td>0.0385</td>\n",
              "      <td>0.532244</td>\n",
              "      <td>0.4720</td>\n",
              "    </tr>\n",
              "    <tr>\n",
              "      <th>169908</th>\n",
              "      <td>0.1090</td>\n",
              "      <td>0.512</td>\n",
              "      <td>0.038841</td>\n",
              "      <td>0.4280</td>\n",
              "      <td>0.000000</td>\n",
              "      <td>0.000000</td>\n",
              "      <td>0.1050</td>\n",
              "      <td>0.823945</td>\n",
              "      <td>0.0271</td>\n",
              "      <td>0.330156</td>\n",
              "      <td>0.3660</td>\n",
              "    </tr>\n",
              "  </tbody>\n",
              "</table>\n",
              "<p>169909 rows × 11 columns</p>\n",
              "</div>"
            ],
            "text/plain": [
              "        acousticness  danceability  duration_ms  ...  speechiness     tempo  valence\n",
              "0             0.9950         0.708     0.028442  ...       0.0506  0.485348   0.7790\n",
              "1             0.9940         0.379     0.051316  ...       0.0462  0.344019   0.0767\n",
              "2             0.6040         0.749     0.018374  ...       0.9290  0.439086   0.8800\n",
              "3             0.9950         0.781     0.032538  ...       0.0926  0.442470   0.7200\n",
              "4             0.9900         0.210     0.126450  ...       0.0424  0.254614   0.0693\n",
              "...              ...           ...          ...  ...          ...       ...      ...\n",
              "169904        0.1730         0.875     0.029396  ...       0.1430  0.409732   0.3060\n",
              "169905        0.0167         0.719     0.030076  ...       0.0403  0.524395   0.2700\n",
              "169906        0.5380         0.514     0.032527  ...       0.1050  0.506778   0.1530\n",
              "169907        0.0714         0.646     0.030046  ...       0.0385  0.532244   0.4720\n",
              "169908        0.1090         0.512     0.038841  ...       0.0271  0.330156   0.3660\n",
              "\n",
              "[169909 rows x 11 columns]"
            ]
          },
          "metadata": {},
          "execution_count": 2
        }
      ]
    },
    {
      "cell_type": "code",
      "metadata": {
        "colab": {
          "base_uri": "https://localhost:8080/",
          "height": 431
        },
        "id": "z-8iHXIsNZ8S",
        "outputId": "c9d1156b-fff4-49b8-9937-8b887b286691"
      },
      "source": [
        "songs.describe(include='all')"
      ],
      "execution_count": null,
      "outputs": [
        {
          "output_type": "execute_result",
          "data": {
            "text/html": [
              "<div>\n",
              "<style scoped>\n",
              "    .dataframe tbody tr th:only-of-type {\n",
              "        vertical-align: middle;\n",
              "    }\n",
              "\n",
              "    .dataframe tbody tr th {\n",
              "        vertical-align: top;\n",
              "    }\n",
              "\n",
              "    .dataframe thead th {\n",
              "        text-align: right;\n",
              "    }\n",
              "</style>\n",
              "<table border=\"1\" class=\"dataframe\">\n",
              "  <thead>\n",
              "    <tr style=\"text-align: right;\">\n",
              "      <th></th>\n",
              "      <th>acousticness</th>\n",
              "      <th>artists</th>\n",
              "      <th>danceability</th>\n",
              "      <th>duration_ms</th>\n",
              "      <th>energy</th>\n",
              "      <th>explicit</th>\n",
              "      <th>id</th>\n",
              "      <th>instrumentalness</th>\n",
              "      <th>key</th>\n",
              "      <th>liveness</th>\n",
              "      <th>loudness</th>\n",
              "      <th>mode</th>\n",
              "      <th>name</th>\n",
              "      <th>popularity</th>\n",
              "      <th>release_date</th>\n",
              "      <th>speechiness</th>\n",
              "      <th>tempo</th>\n",
              "      <th>valence</th>\n",
              "      <th>year</th>\n",
              "    </tr>\n",
              "  </thead>\n",
              "  <tbody>\n",
              "    <tr>\n",
              "      <th>count</th>\n",
              "      <td>169909.000000</td>\n",
              "      <td>169909</td>\n",
              "      <td>169909.000000</td>\n",
              "      <td>1.699090e+05</td>\n",
              "      <td>169909.000000</td>\n",
              "      <td>169909.000000</td>\n",
              "      <td>169909</td>\n",
              "      <td>169909.000000</td>\n",
              "      <td>169909.000000</td>\n",
              "      <td>169909.000000</td>\n",
              "      <td>169909.000000</td>\n",
              "      <td>169909.000000</td>\n",
              "      <td>169909</td>\n",
              "      <td>169909.000000</td>\n",
              "      <td>169909</td>\n",
              "      <td>169909.000000</td>\n",
              "      <td>169909.000000</td>\n",
              "      <td>169909.000000</td>\n",
              "      <td>169909.000000</td>\n",
              "    </tr>\n",
              "    <tr>\n",
              "      <th>unique</th>\n",
              "      <td>NaN</td>\n",
              "      <td>33375</td>\n",
              "      <td>NaN</td>\n",
              "      <td>NaN</td>\n",
              "      <td>NaN</td>\n",
              "      <td>NaN</td>\n",
              "      <td>169909</td>\n",
              "      <td>NaN</td>\n",
              "      <td>NaN</td>\n",
              "      <td>NaN</td>\n",
              "      <td>NaN</td>\n",
              "      <td>NaN</td>\n",
              "      <td>132940</td>\n",
              "      <td>NaN</td>\n",
              "      <td>10882</td>\n",
              "      <td>NaN</td>\n",
              "      <td>NaN</td>\n",
              "      <td>NaN</td>\n",
              "      <td>NaN</td>\n",
              "    </tr>\n",
              "    <tr>\n",
              "      <th>top</th>\n",
              "      <td>NaN</td>\n",
              "      <td>['Эрнест Хемингуэй']</td>\n",
              "      <td>NaN</td>\n",
              "      <td>NaN</td>\n",
              "      <td>NaN</td>\n",
              "      <td>NaN</td>\n",
              "      <td>1yZaVkklBi3CBDJ9t4f63N</td>\n",
              "      <td>NaN</td>\n",
              "      <td>NaN</td>\n",
              "      <td>NaN</td>\n",
              "      <td>NaN</td>\n",
              "      <td>NaN</td>\n",
              "      <td>Summertime</td>\n",
              "      <td>NaN</td>\n",
              "      <td>1945</td>\n",
              "      <td>NaN</td>\n",
              "      <td>NaN</td>\n",
              "      <td>NaN</td>\n",
              "      <td>NaN</td>\n",
              "    </tr>\n",
              "    <tr>\n",
              "      <th>freq</th>\n",
              "      <td>NaN</td>\n",
              "      <td>1215</td>\n",
              "      <td>NaN</td>\n",
              "      <td>NaN</td>\n",
              "      <td>NaN</td>\n",
              "      <td>NaN</td>\n",
              "      <td>1</td>\n",
              "      <td>NaN</td>\n",
              "      <td>NaN</td>\n",
              "      <td>NaN</td>\n",
              "      <td>NaN</td>\n",
              "      <td>NaN</td>\n",
              "      <td>62</td>\n",
              "      <td>NaN</td>\n",
              "      <td>1449</td>\n",
              "      <td>NaN</td>\n",
              "      <td>NaN</td>\n",
              "      <td>NaN</td>\n",
              "      <td>NaN</td>\n",
              "    </tr>\n",
              "    <tr>\n",
              "      <th>mean</th>\n",
              "      <td>0.493214</td>\n",
              "      <td>NaN</td>\n",
              "      <td>0.538150</td>\n",
              "      <td>2.314062e+05</td>\n",
              "      <td>0.488593</td>\n",
              "      <td>0.084863</td>\n",
              "      <td>NaN</td>\n",
              "      <td>0.161937</td>\n",
              "      <td>5.200519</td>\n",
              "      <td>0.206690</td>\n",
              "      <td>-11.370289</td>\n",
              "      <td>0.708556</td>\n",
              "      <td>NaN</td>\n",
              "      <td>31.556610</td>\n",
              "      <td>NaN</td>\n",
              "      <td>0.094058</td>\n",
              "      <td>116.948017</td>\n",
              "      <td>0.532095</td>\n",
              "      <td>1977.223231</td>\n",
              "    </tr>\n",
              "    <tr>\n",
              "      <th>std</th>\n",
              "      <td>0.376627</td>\n",
              "      <td>NaN</td>\n",
              "      <td>0.175346</td>\n",
              "      <td>1.213219e+05</td>\n",
              "      <td>0.267390</td>\n",
              "      <td>0.278679</td>\n",
              "      <td>NaN</td>\n",
              "      <td>0.309329</td>\n",
              "      <td>3.515257</td>\n",
              "      <td>0.176796</td>\n",
              "      <td>5.666765</td>\n",
              "      <td>0.454429</td>\n",
              "      <td>NaN</td>\n",
              "      <td>21.582614</td>\n",
              "      <td>NaN</td>\n",
              "      <td>0.149937</td>\n",
              "      <td>30.726937</td>\n",
              "      <td>0.262408</td>\n",
              "      <td>25.593168</td>\n",
              "    </tr>\n",
              "    <tr>\n",
              "      <th>min</th>\n",
              "      <td>0.000000</td>\n",
              "      <td>NaN</td>\n",
              "      <td>0.000000</td>\n",
              "      <td>5.108000e+03</td>\n",
              "      <td>0.000000</td>\n",
              "      <td>0.000000</td>\n",
              "      <td>NaN</td>\n",
              "      <td>0.000000</td>\n",
              "      <td>0.000000</td>\n",
              "      <td>0.000000</td>\n",
              "      <td>-60.000000</td>\n",
              "      <td>0.000000</td>\n",
              "      <td>NaN</td>\n",
              "      <td>0.000000</td>\n",
              "      <td>NaN</td>\n",
              "      <td>0.000000</td>\n",
              "      <td>0.000000</td>\n",
              "      <td>0.000000</td>\n",
              "      <td>1921.000000</td>\n",
              "    </tr>\n",
              "    <tr>\n",
              "      <th>25%</th>\n",
              "      <td>0.094500</td>\n",
              "      <td>NaN</td>\n",
              "      <td>0.417000</td>\n",
              "      <td>1.710400e+05</td>\n",
              "      <td>0.263000</td>\n",
              "      <td>0.000000</td>\n",
              "      <td>NaN</td>\n",
              "      <td>0.000000</td>\n",
              "      <td>2.000000</td>\n",
              "      <td>0.098400</td>\n",
              "      <td>-14.470000</td>\n",
              "      <td>0.000000</td>\n",
              "      <td>NaN</td>\n",
              "      <td>12.000000</td>\n",
              "      <td>NaN</td>\n",
              "      <td>0.034900</td>\n",
              "      <td>93.516000</td>\n",
              "      <td>0.322000</td>\n",
              "      <td>1957.000000</td>\n",
              "    </tr>\n",
              "    <tr>\n",
              "      <th>50%</th>\n",
              "      <td>0.492000</td>\n",
              "      <td>NaN</td>\n",
              "      <td>0.548000</td>\n",
              "      <td>2.086000e+05</td>\n",
              "      <td>0.481000</td>\n",
              "      <td>0.000000</td>\n",
              "      <td>NaN</td>\n",
              "      <td>0.000204</td>\n",
              "      <td>5.000000</td>\n",
              "      <td>0.135000</td>\n",
              "      <td>-10.474000</td>\n",
              "      <td>1.000000</td>\n",
              "      <td>NaN</td>\n",
              "      <td>33.000000</td>\n",
              "      <td>NaN</td>\n",
              "      <td>0.045000</td>\n",
              "      <td>114.778000</td>\n",
              "      <td>0.544000</td>\n",
              "      <td>1978.000000</td>\n",
              "    </tr>\n",
              "    <tr>\n",
              "      <th>75%</th>\n",
              "      <td>0.888000</td>\n",
              "      <td>NaN</td>\n",
              "      <td>0.667000</td>\n",
              "      <td>2.629600e+05</td>\n",
              "      <td>0.710000</td>\n",
              "      <td>0.000000</td>\n",
              "      <td>NaN</td>\n",
              "      <td>0.086800</td>\n",
              "      <td>8.000000</td>\n",
              "      <td>0.263000</td>\n",
              "      <td>-7.118000</td>\n",
              "      <td>1.000000</td>\n",
              "      <td>NaN</td>\n",
              "      <td>48.000000</td>\n",
              "      <td>NaN</td>\n",
              "      <td>0.075400</td>\n",
              "      <td>135.712000</td>\n",
              "      <td>0.749000</td>\n",
              "      <td>1999.000000</td>\n",
              "    </tr>\n",
              "    <tr>\n",
              "      <th>max</th>\n",
              "      <td>0.996000</td>\n",
              "      <td>NaN</td>\n",
              "      <td>0.988000</td>\n",
              "      <td>5.403500e+06</td>\n",
              "      <td>1.000000</td>\n",
              "      <td>1.000000</td>\n",
              "      <td>NaN</td>\n",
              "      <td>1.000000</td>\n",
              "      <td>11.000000</td>\n",
              "      <td>1.000000</td>\n",
              "      <td>3.855000</td>\n",
              "      <td>1.000000</td>\n",
              "      <td>NaN</td>\n",
              "      <td>100.000000</td>\n",
              "      <td>NaN</td>\n",
              "      <td>0.969000</td>\n",
              "      <td>244.091000</td>\n",
              "      <td>1.000000</td>\n",
              "      <td>2020.000000</td>\n",
              "    </tr>\n",
              "  </tbody>\n",
              "</table>\n",
              "</div>"
            ],
            "text/plain": [
              "         acousticness               artists  ...        valence           year\n",
              "count   169909.000000                169909  ...  169909.000000  169909.000000\n",
              "unique            NaN                 33375  ...            NaN            NaN\n",
              "top               NaN  ['Эрнест Хемингуэй']  ...            NaN            NaN\n",
              "freq              NaN                  1215  ...            NaN            NaN\n",
              "mean         0.493214                   NaN  ...       0.532095    1977.223231\n",
              "std          0.376627                   NaN  ...       0.262408      25.593168\n",
              "min          0.000000                   NaN  ...       0.000000    1921.000000\n",
              "25%          0.094500                   NaN  ...       0.322000    1957.000000\n",
              "50%          0.492000                   NaN  ...       0.544000    1978.000000\n",
              "75%          0.888000                   NaN  ...       0.749000    1999.000000\n",
              "max          0.996000                   NaN  ...       1.000000    2020.000000\n",
              "\n",
              "[11 rows x 19 columns]"
            ]
          },
          "metadata": {},
          "execution_count": 9
        }
      ]
    },
    {
      "cell_type": "code",
      "metadata": {
        "colab": {
          "base_uri": "https://localhost:8080/"
        },
        "id": "qI4iqnk4NirQ",
        "outputId": "03cad703-23b6-4961-a0d3-690e308f3f6b"
      },
      "source": [
        "songs.popularity.value_counts()"
      ],
      "execution_count": null,
      "outputs": [
        {
          "output_type": "execute_result",
          "data": {
            "text/plain": [
              "0      27357\n",
              "42      3280\n",
              "43      3120\n",
              "40      3061\n",
              "44      3054\n",
              "       ...  \n",
              "93         3\n",
              "97         1\n",
              "96         1\n",
              "99         1\n",
              "100        1\n",
              "Name: popularity, Length: 100, dtype: int64"
            ]
          },
          "metadata": {},
          "execution_count": 11
        }
      ]
    },
    {
      "cell_type": "markdown",
      "metadata": {
        "id": "NlDBgBiTdgcb"
      },
      "source": [
        "# Plotting Heatmaps"
      ]
    },
    {
      "cell_type": "code",
      "metadata": {
        "colab": {
          "base_uri": "https://localhost:8080/",
          "height": 500
        },
        "id": "j2123akPZV-i",
        "outputId": "9ab73e01-b7eb-45b6-bb0a-b6dcaa9f455f"
      },
      "source": [
        "import seaborn as sns\n",
        "# import matplotlib.pyplot as plt\n",
        "# %matplotlib inline\n",
        "corr = songs.corr()\n",
        "sns.set(rc={'figure.figsize':(8.7,6.27)})\n",
        "sns.heatmap(corr, xticklabels=corr.columns, yticklabels=corr.columns, cmap=sns.diverging_palette(220, 10, as_cmap=True))"
      ],
      "execution_count": null,
      "outputs": [
        {
          "output_type": "execute_result",
          "data": {
            "text/plain": [
              "<matplotlib.axes._subplots.AxesSubplot at 0x7f86ef47f810>"
            ]
          },
          "metadata": {},
          "execution_count": 63
        },
        {
          "output_type": "display_data",
          "data": {
            "image/png": "[encoded data removed]",
            "text/plain": [
              "<Figure size 626.4x451.44 with 2 Axes>"
            ]
          },
          "metadata": {}
        }
      ]
    },
    {
      "cell_type": "code",
      "metadata": {
        "colab": {
          "base_uri": "https://localhost:8080/",
          "height": 500
        },
        "id": "zUOk2lEdZV69",
        "outputId": "46f364f2-22de-491a-b249-9b176e4bce6a"
      },
      "source": [
        "import seaborn as sns\n",
        "sns.set(rc={'figure.figsize':(8.7,6.27)})\n",
        "corr = artists.corr()\n",
        "sns.heatmap(corr, xticklabels=corr.columns, yticklabels=corr.columns, cmap=sns.diverging_palette(220, 10, as_cmap=True))"
      ],
      "execution_count": null,
      "outputs": [
        {
          "output_type": "execute_result",
          "data": {
            "text/plain": [
              "<matplotlib.axes._subplots.AxesSubplot at 0x7f86ea9ff8d0>"
            ]
          },
          "metadata": {},
          "execution_count": 64
        },
        {
          "output_type": "display_data",
          "data": {
            "image/png": "[encoded data removed]",
            "text/plain": [
              "<Figure size 626.4x451.44 with 2 Axes>"
            ]
          },
          "metadata": {}
        }
      ]
    },
    {
      "cell_type": "code",
      "metadata": {
        "id": "-i13UsKsNMPR"
      },
      "source": [
        "songs3 = songs[songs['popularity']>0]"
      ],
      "execution_count": 3,
      "outputs": []
    },
    {
      "cell_type": "code",
      "metadata": {
        "colab": {
          "base_uri": "https://localhost:8080/",
          "height": 431
        },
        "id": "rn0L_GQXNMKB",
        "outputId": "1eb0c08b-40eb-43bf-8360-4b583a5780f2"
      },
      "source": [
        "songs3.describe(include='all')"
      ],
      "execution_count": 4,
      "outputs": [
        {
          "output_type": "execute_result",
          "data": {
            "text/html": [
              "<div>\n",
              "<style scoped>\n",
              "    .dataframe tbody tr th:only-of-type {\n",
              "        vertical-align: middle;\n",
              "    }\n",
              "\n",
              "    .dataframe tbody tr th {\n",
              "        vertical-align: top;\n",
              "    }\n",
              "\n",
              "    .dataframe thead th {\n",
              "        text-align: right;\n",
              "    }\n",
              "</style>\n",
              "<table border=\"1\" class=\"dataframe\">\n",
              "  <thead>\n",
              "    <tr style=\"text-align: right;\">\n",
              "      <th></th>\n",
              "      <th>acousticness</th>\n",
              "      <th>artists</th>\n",
              "      <th>danceability</th>\n",
              "      <th>duration_ms</th>\n",
              "      <th>energy</th>\n",
              "      <th>explicit</th>\n",
              "      <th>id</th>\n",
              "      <th>instrumentalness</th>\n",
              "      <th>key</th>\n",
              "      <th>liveness</th>\n",
              "      <th>loudness</th>\n",
              "      <th>mode</th>\n",
              "      <th>name</th>\n",
              "      <th>popularity</th>\n",
              "      <th>release_date</th>\n",
              "      <th>speechiness</th>\n",
              "      <th>tempo</th>\n",
              "      <th>valence</th>\n",
              "      <th>year</th>\n",
              "    </tr>\n",
              "  </thead>\n",
              "  <tbody>\n",
              "    <tr>\n",
              "      <th>count</th>\n",
              "      <td>142552.000000</td>\n",
              "      <td>142552</td>\n",
              "      <td>142552.000000</td>\n",
              "      <td>1.425520e+05</td>\n",
              "      <td>142552.000000</td>\n",
              "      <td>142552.000000</td>\n",
              "      <td>142552</td>\n",
              "      <td>142552.000000</td>\n",
              "      <td>142552.000000</td>\n",
              "      <td>142552.000000</td>\n",
              "      <td>142552.000000</td>\n",
              "      <td>142552.000000</td>\n",
              "      <td>142552</td>\n",
              "      <td>142552.000000</td>\n",
              "      <td>142552</td>\n",
              "      <td>142552.000000</td>\n",
              "      <td>142552.000000</td>\n",
              "      <td>142552.000000</td>\n",
              "      <td>142552.000000</td>\n",
              "    </tr>\n",
              "    <tr>\n",
              "      <th>unique</th>\n",
              "      <td>NaN</td>\n",
              "      <td>27954</td>\n",
              "      <td>NaN</td>\n",
              "      <td>NaN</td>\n",
              "      <td>NaN</td>\n",
              "      <td>NaN</td>\n",
              "      <td>142552</td>\n",
              "      <td>NaN</td>\n",
              "      <td>NaN</td>\n",
              "      <td>NaN</td>\n",
              "      <td>NaN</td>\n",
              "      <td>NaN</td>\n",
              "      <td>109164</td>\n",
              "      <td>NaN</td>\n",
              "      <td>10427</td>\n",
              "      <td>NaN</td>\n",
              "      <td>NaN</td>\n",
              "      <td>NaN</td>\n",
              "      <td>NaN</td>\n",
              "    </tr>\n",
              "    <tr>\n",
              "      <th>top</th>\n",
              "      <td>NaN</td>\n",
              "      <td>['Frank Sinatra']</td>\n",
              "      <td>NaN</td>\n",
              "      <td>NaN</td>\n",
              "      <td>NaN</td>\n",
              "      <td>NaN</td>\n",
              "      <td>38llcrfX1arUqrEe0DRRzW</td>\n",
              "      <td>NaN</td>\n",
              "      <td>NaN</td>\n",
              "      <td>NaN</td>\n",
              "      <td>NaN</td>\n",
              "      <td>NaN</td>\n",
              "      <td>Summertime</td>\n",
              "      <td>NaN</td>\n",
              "      <td>1956</td>\n",
              "      <td>NaN</td>\n",
              "      <td>NaN</td>\n",
              "      <td>NaN</td>\n",
              "      <td>NaN</td>\n",
              "    </tr>\n",
              "    <tr>\n",
              "      <th>freq</th>\n",
              "      <td>NaN</td>\n",
              "      <td>592</td>\n",
              "      <td>NaN</td>\n",
              "      <td>NaN</td>\n",
              "      <td>NaN</td>\n",
              "      <td>NaN</td>\n",
              "      <td>1</td>\n",
              "      <td>NaN</td>\n",
              "      <td>NaN</td>\n",
              "      <td>NaN</td>\n",
              "      <td>NaN</td>\n",
              "      <td>NaN</td>\n",
              "      <td>59</td>\n",
              "      <td>NaN</td>\n",
              "      <td>966</td>\n",
              "      <td>NaN</td>\n",
              "      <td>NaN</td>\n",
              "      <td>NaN</td>\n",
              "      <td>NaN</td>\n",
              "    </tr>\n",
              "    <tr>\n",
              "      <th>mean</th>\n",
              "      <td>0.421372</td>\n",
              "      <td>NaN</td>\n",
              "      <td>0.546446</td>\n",
              "      <td>2.345441e+05</td>\n",
              "      <td>0.531999</td>\n",
              "      <td>0.086684</td>\n",
              "      <td>NaN</td>\n",
              "      <td>0.127020</td>\n",
              "      <td>5.203891</td>\n",
              "      <td>0.203019</td>\n",
              "      <td>-10.613328</td>\n",
              "      <td>0.709881</td>\n",
              "      <td>NaN</td>\n",
              "      <td>37.612605</td>\n",
              "      <td>NaN</td>\n",
              "      <td>0.078032</td>\n",
              "      <td>118.626089</td>\n",
              "      <td>0.536024</td>\n",
              "      <td>1984.035391</td>\n",
              "    </tr>\n",
              "    <tr>\n",
              "      <th>std</th>\n",
              "      <td>0.354563</td>\n",
              "      <td>NaN</td>\n",
              "      <td>0.173625</td>\n",
              "      <td>1.111261e+05</td>\n",
              "      <td>0.260818</td>\n",
              "      <td>0.281373</td>\n",
              "      <td>NaN</td>\n",
              "      <td>0.278055</td>\n",
              "      <td>3.519018</td>\n",
              "      <td>0.178617</td>\n",
              "      <td>5.347772</td>\n",
              "      <td>0.453819</td>\n",
              "      <td>NaN</td>\n",
              "      <td>18.094736</td>\n",
              "      <td>NaN</td>\n",
              "      <td>0.103235</td>\n",
              "      <td>30.357243</td>\n",
              "      <td>0.260744</td>\n",
              "      <td>21.783692</td>\n",
              "    </tr>\n",
              "    <tr>\n",
              "      <th>min</th>\n",
              "      <td>0.000000</td>\n",
              "      <td>NaN</td>\n",
              "      <td>0.000000</td>\n",
              "      <td>1.470800e+04</td>\n",
              "      <td>0.000000</td>\n",
              "      <td>0.000000</td>\n",
              "      <td>NaN</td>\n",
              "      <td>0.000000</td>\n",
              "      <td>0.000000</td>\n",
              "      <td>0.000000</td>\n",
              "      <td>-60.000000</td>\n",
              "      <td>0.000000</td>\n",
              "      <td>NaN</td>\n",
              "      <td>1.000000</td>\n",
              "      <td>NaN</td>\n",
              "      <td>0.000000</td>\n",
              "      <td>0.000000</td>\n",
              "      <td>0.000000</td>\n",
              "      <td>1921.000000</td>\n",
              "    </tr>\n",
              "    <tr>\n",
              "      <th>25%</th>\n",
              "      <td>0.063200</td>\n",
              "      <td>NaN</td>\n",
              "      <td>0.430000</td>\n",
              "      <td>1.751050e+05</td>\n",
              "      <td>0.324000</td>\n",
              "      <td>0.000000</td>\n",
              "      <td>NaN</td>\n",
              "      <td>0.000000</td>\n",
              "      <td>2.000000</td>\n",
              "      <td>0.095500</td>\n",
              "      <td>-13.411000</td>\n",
              "      <td>0.000000</td>\n",
              "      <td>NaN</td>\n",
              "      <td>25.000000</td>\n",
              "      <td>NaN</td>\n",
              "      <td>0.034000</td>\n",
              "      <td>95.275000</td>\n",
              "      <td>0.327000</td>\n",
              "      <td>1967.000000</td>\n",
              "    </tr>\n",
              "    <tr>\n",
              "      <th>50%</th>\n",
              "      <td>0.356000</td>\n",
              "      <td>NaN</td>\n",
              "      <td>0.556000</td>\n",
              "      <td>2.161070e+05</td>\n",
              "      <td>0.541000</td>\n",
              "      <td>0.000000</td>\n",
              "      <td>NaN</td>\n",
              "      <td>0.000087</td>\n",
              "      <td>5.000000</td>\n",
              "      <td>0.131000</td>\n",
              "      <td>-9.733000</td>\n",
              "      <td>1.000000</td>\n",
              "      <td>NaN</td>\n",
              "      <td>38.000000</td>\n",
              "      <td>NaN</td>\n",
              "      <td>0.043400</td>\n",
              "      <td>116.164000</td>\n",
              "      <td>0.546000</td>\n",
              "      <td>1985.000000</td>\n",
              "    </tr>\n",
              "    <tr>\n",
              "      <th>75%</th>\n",
              "      <td>0.773000</td>\n",
              "      <td>NaN</td>\n",
              "      <td>0.672000</td>\n",
              "      <td>2.678032e+05</td>\n",
              "      <td>0.746000</td>\n",
              "      <td>0.000000</td>\n",
              "      <td>NaN</td>\n",
              "      <td>0.024600</td>\n",
              "      <td>8.000000</td>\n",
              "      <td>0.255000</td>\n",
              "      <td>-6.660750</td>\n",
              "      <td>1.000000</td>\n",
              "      <td>NaN</td>\n",
              "      <td>51.000000</td>\n",
              "      <td>NaN</td>\n",
              "      <td>0.070000</td>\n",
              "      <td>137.413000</td>\n",
              "      <td>0.753000</td>\n",
              "      <td>2002.000000</td>\n",
              "    </tr>\n",
              "    <tr>\n",
              "      <th>max</th>\n",
              "      <td>0.996000</td>\n",
              "      <td>NaN</td>\n",
              "      <td>0.988000</td>\n",
              "      <td>5.403500e+06</td>\n",
              "      <td>1.000000</td>\n",
              "      <td>1.000000</td>\n",
              "      <td>NaN</td>\n",
              "      <td>1.000000</td>\n",
              "      <td>11.000000</td>\n",
              "      <td>1.000000</td>\n",
              "      <td>3.744000</td>\n",
              "      <td>1.000000</td>\n",
              "      <td>NaN</td>\n",
              "      <td>100.000000</td>\n",
              "      <td>NaN</td>\n",
              "      <td>0.968000</td>\n",
              "      <td>244.091000</td>\n",
              "      <td>1.000000</td>\n",
              "      <td>2020.000000</td>\n",
              "    </tr>\n",
              "  </tbody>\n",
              "</table>\n",
              "</div>"
            ],
            "text/plain": [
              "         acousticness            artists  ...        valence           year\n",
              "count   142552.000000             142552  ...  142552.000000  142552.000000\n",
              "unique            NaN              27954  ...            NaN            NaN\n",
              "top               NaN  ['Frank Sinatra']  ...            NaN            NaN\n",
              "freq              NaN                592  ...            NaN            NaN\n",
              "mean         0.421372                NaN  ...       0.536024    1984.035391\n",
              "std          0.354563                NaN  ...       0.260744      21.783692\n",
              "min          0.000000                NaN  ...       0.000000    1921.000000\n",
              "25%          0.063200                NaN  ...       0.327000    1967.000000\n",
              "50%          0.356000                NaN  ...       0.546000    1985.000000\n",
              "75%          0.773000                NaN  ...       0.753000    2002.000000\n",
              "max          0.996000                NaN  ...       1.000000    2020.000000\n",
              "\n",
              "[11 rows x 19 columns]"
            ]
          },
          "metadata": {},
          "execution_count": 4
        }
      ]
    },
    {
      "cell_type": "code",
      "metadata": {
        "id": "gUeyVboCgfCW"
      },
      "source": [
        "songs2 = songs[['acousticness', 'danceability', 'duration_ms', 'energy',\n",
        "       'instrumentalness', 'key', 'liveness', 'loudness', 'speechiness',\n",
        "       'tempo', 'valence']]"
      ],
      "execution_count": 5,
      "outputs": []
    },
    {
      "cell_type": "code",
      "metadata": {
        "id": "7CT09FxnhgkM"
      },
      "source": [
        "from sklearn.model_selection import train_test_split\n",
        "X_train, X_test, y_train, y_test = train_test_split( songs2, songs['popularity'], test_size=0.2, random_state=42)"
      ],
      "execution_count": 25,
      "outputs": []
    },
    {
      "cell_type": "markdown",
      "metadata": {
        "id": "YuYPBVYsd96L"
      },
      "source": [
        "# Modeling "
      ]
    },
    {
      "cell_type": "markdown",
      "metadata": {
        "id": "fwrPECb3eitB"
      },
      "source": [
        "## Linear Regression"
      ]
    },
    {
      "cell_type": "code",
      "metadata": {
        "id": "LgqcoICfcias"
      },
      "source": [
        "from sklearn.linear_model import LinearRegression"
      ],
      "execution_count": 20,
      "outputs": []
    },
    {
      "cell_type": "code",
      "metadata": {
        "colab": {
          "base_uri": "https://localhost:8080/"
        },
        "id": "Hdd0ADGsc2dN",
        "outputId": "f16230ce-c4fc-496d-d5a6-411ba4853d85"
      },
      "source": [
        "lr = LinearRegression()\n",
        "lr.fit(X_train, y_train)"
      ],
      "execution_count": null,
      "outputs": [
        {
          "output_type": "execute_result",
          "data": {
            "text/plain": [
              "LinearRegression()"
            ]
          },
          "metadata": {},
          "execution_count": 95
        }
      ]
    },
    {
      "cell_type": "code",
      "metadata": {
        "id": "jkLdlWYYc2SJ"
      },
      "source": [
        "ypred = lr.predict(X_train)\n",
        "ypred_test = lr.predict(X_test)"
      ],
      "execution_count": null,
      "outputs": []
    },
    {
      "cell_type": "markdown",
      "metadata": {
        "id": "uNw8TGldgjr_"
      },
      "source": [
        "### Plotting Learning Curves"
      ]
    },
    {
      "cell_type": "code",
      "metadata": {
        "colab": {
          "base_uri": "https://localhost:8080/",
          "height": 518
        },
        "id": "cCqzX14Rc9uW",
        "outputId": "b5b5d950-42fc-41e0-9e7b-1759dda67b67"
      },
      "source": [
        "from mlxtend.plotting import plot_learning_curves\n",
        "plot_learning_curves(X_train, ypred, X_test, ypred_test, lr,scoring='mean_squared_error')\n",
        "plt.show()"
      ],
      "execution_count": null,
      "outputs": [
        {
          "output_type": "display_data",
          "data": {
            "image/png": "[encoded data removed]",
            "text/plain": [
              "<Figure size 626.4x451.44 with 1 Axes>"
            ]
          },
          "metadata": {}
        }
      ]
    },
    {
      "cell_type": "code",
      "metadata": {
        "id": "A6uqdzb_gsMJ"
      },
      "source": [
        "from sklearn.metrics import r2_score\n",
        "r2 = r2_score(y_train,ypred)\n",
        "print(r2)"
      ],
      "execution_count": null,
      "outputs": []
    },
    {
      "cell_type": "code",
      "metadata": {
        "id": "ImDsn3Wtgsyy"
      },
      "source": [
        "from sklearn.metrics import r2_score\n",
        "r2 = r2_score(y_test,ypred_test)\n",
        "print(r2)"
      ],
      "execution_count": null,
      "outputs": []
    },
    {
      "cell_type": "markdown",
      "metadata": {
        "id": "ZlBqi4BqeD6y"
      },
      "source": [
        "## Random Forest"
      ]
    },
    {
      "cell_type": "code",
      "metadata": {
        "colab": {
          "base_uri": "https://localhost:8080/"
        },
        "id": "y7T4vczGhgX5",
        "outputId": "838a6014-b738-4fcb-fe66-6d59a2c324f3"
      },
      "source": [
        "from sklearn.ensemble import RandomForestRegressor\n",
        "from sklearn.model_selection import GridSearchCV\n",
        "clf = RandomForestRegressor(n_jobs=-1)\n",
        "clf.fit(X_train, y_train)\n"
      ],
      "execution_count": 7,
      "outputs": [
        {
          "output_type": "execute_result",
          "data": {
            "text/plain": [
              "RandomForestRegressor(n_jobs=-1)"
            ]
          },
          "metadata": {},
          "execution_count": 7
        }
      ]
    },
    {
      "cell_type": "code",
      "metadata": {
        "id": "1m_svac3kdd-"
      },
      "source": [
        "def get_feature_importance(dataframe, model):\n",
        "    ## Get important Features\n",
        "    feat_importances = pd.Series(model.feature_importances_, index = dataframe .columns)\n",
        "\n",
        "    ## Sort importances\n",
        "    feat_importances_ordered = feat_importances.nlargest(n=40)\n",
        "    feat_importances_ordered\n",
        "\n",
        "    ## Plotting Importance\n",
        "    feat_importances_ordered.plot(kind='barh')\n",
        "    plt.show()\n",
        "\n",
        "# get_feature_importance(X_train, clf)"
      ],
      "execution_count": 8,
      "outputs": []
    },
    {
      "cell_type": "code",
      "metadata": {
        "colab": {
          "base_uri": "https://localhost:8080/",
          "height": 206
        },
        "id": "R-z4hYhalcM0",
        "outputId": "9c9173df-b91b-4642-8d53-5db730caed66"
      },
      "source": [
        "X_train[['acousticness', 'danceability', 'duration_ms', 'energy',\n",
        "   'instrumentalness', 'key', 'liveness', 'loudness', 'speechiness',\n",
        "   'tempo', 'valence']].head()"
      ],
      "execution_count": 9,
      "outputs": [
        {
          "output_type": "execute_result",
          "data": {
            "text/html": [
              "<div>\n",
              "<style scoped>\n",
              "    .dataframe tbody tr th:only-of-type {\n",
              "        vertical-align: middle;\n",
              "    }\n",
              "\n",
              "    .dataframe tbody tr th {\n",
              "        vertical-align: top;\n",
              "    }\n",
              "\n",
              "    .dataframe thead th {\n",
              "        text-align: right;\n",
              "    }\n",
              "</style>\n",
              "<table border=\"1\" class=\"dataframe\">\n",
              "  <thead>\n",
              "    <tr style=\"text-align: right;\">\n",
              "      <th></th>\n",
              "      <th>acousticness</th>\n",
              "      <th>danceability</th>\n",
              "      <th>duration_ms</th>\n",
              "      <th>energy</th>\n",
              "      <th>instrumentalness</th>\n",
              "      <th>key</th>\n",
              "      <th>liveness</th>\n",
              "      <th>loudness</th>\n",
              "      <th>speechiness</th>\n",
              "      <th>tempo</th>\n",
              "      <th>valence</th>\n",
              "    </tr>\n",
              "  </thead>\n",
              "  <tbody>\n",
              "    <tr>\n",
              "      <th>31517</th>\n",
              "      <td>0.00108</td>\n",
              "      <td>0.209</td>\n",
              "      <td>137872</td>\n",
              "      <td>0.780</td>\n",
              "      <td>0.025300</td>\n",
              "      <td>1</td>\n",
              "      <td>0.2120</td>\n",
              "      <td>-3.245</td>\n",
              "      <td>0.0512</td>\n",
              "      <td>102.877</td>\n",
              "      <td>0.626</td>\n",
              "    </tr>\n",
              "    <tr>\n",
              "      <th>708</th>\n",
              "      <td>0.86800</td>\n",
              "      <td>0.397</td>\n",
              "      <td>175333</td>\n",
              "      <td>0.775</td>\n",
              "      <td>0.000500</td>\n",
              "      <td>0</td>\n",
              "      <td>0.6010</td>\n",
              "      <td>-3.068</td>\n",
              "      <td>0.1330</td>\n",
              "      <td>82.560</td>\n",
              "      <td>0.875</td>\n",
              "    </tr>\n",
              "    <tr>\n",
              "      <th>110555</th>\n",
              "      <td>0.40100</td>\n",
              "      <td>0.679</td>\n",
              "      <td>148320</td>\n",
              "      <td>0.471</td>\n",
              "      <td>0.000018</td>\n",
              "      <td>4</td>\n",
              "      <td>0.5520</td>\n",
              "      <td>-12.643</td>\n",
              "      <td>0.0577</td>\n",
              "      <td>112.946</td>\n",
              "      <td>0.674</td>\n",
              "    </tr>\n",
              "    <tr>\n",
              "      <th>4104</th>\n",
              "      <td>0.15900</td>\n",
              "      <td>0.709</td>\n",
              "      <td>192867</td>\n",
              "      <td>0.654</td>\n",
              "      <td>0.000015</td>\n",
              "      <td>0</td>\n",
              "      <td>0.1010</td>\n",
              "      <td>-5.904</td>\n",
              "      <td>0.0272</td>\n",
              "      <td>108.968</td>\n",
              "      <td>0.829</td>\n",
              "    </tr>\n",
              "    <tr>\n",
              "      <th>148835</th>\n",
              "      <td>0.04110</td>\n",
              "      <td>0.565</td>\n",
              "      <td>243093</td>\n",
              "      <td>0.628</td>\n",
              "      <td>0.000000</td>\n",
              "      <td>7</td>\n",
              "      <td>0.0763</td>\n",
              "      <td>-10.504</td>\n",
              "      <td>0.0416</td>\n",
              "      <td>127.394</td>\n",
              "      <td>0.896</td>\n",
              "    </tr>\n",
              "  </tbody>\n",
              "</table>\n",
              "</div>"
            ],
            "text/plain": [
              "        acousticness  danceability  duration_ms  ...  speechiness    tempo  valence\n",
              "31517        0.00108         0.209       137872  ...       0.0512  102.877    0.626\n",
              "708          0.86800         0.397       175333  ...       0.1330   82.560    0.875\n",
              "110555       0.40100         0.679       148320  ...       0.0577  112.946    0.674\n",
              "4104         0.15900         0.709       192867  ...       0.0272  108.968    0.829\n",
              "148835       0.04110         0.565       243093  ...       0.0416  127.394    0.896\n",
              "\n",
              "[5 rows x 11 columns]"
            ]
          },
          "metadata": {},
          "execution_count": 9
        }
      ]
    },
    {
      "cell_type": "code",
      "metadata": {
        "id": "g9ewxWXMdKp-"
      },
      "source": [
        "ypred = clf.predict(X_train[['acousticness', 'danceability', 'duration_ms', 'energy',\n",
        "   'instrumentalness', 'key', 'liveness', 'loudness', 'speechiness',\n",
        "   'tempo', 'valence']])\n",
        "ypred_test = clf.predict(X_test[['acousticness', 'danceability', 'duration_ms', 'energy',\n",
        "   'instrumentalness', 'key', 'liveness', 'loudness', 'speechiness',\n",
        "   'tempo', 'valence']])"
      ],
      "execution_count": 13,
      "outputs": []
    },
    {
      "cell_type": "markdown",
      "metadata": {
        "id": "wYQAkBrLgqJL"
      },
      "source": [
        "### Plotting Learning Curves"
      ]
    },
    {
      "cell_type": "code",
      "metadata": {
        "colab": {
          "base_uri": "https://localhost:8080/",
          "height": 392
        },
        "id": "FcoI4A7tn7xf",
        "outputId": "68e55904-1ab1-45a7-f28a-a19b542f9a90"
      },
      "source": [
        "import matplotlib.pyplot as plt\n",
        "from mlxtend.plotting import plot_learning_curves\n",
        "plot_learning_curves(X_train, ypred, X_test, ypred_test, clf,scoring='mean_squared_error')\n",
        "plt.show()"
      ],
      "execution_count": null,
      "outputs": [
        {
          "output_type": "display_data",
          "data": {
            "image/png": "[encoded data removed]",
            "text/plain": [
              "<Figure size 432x288 with 1 Axes>"
            ]
          },
          "metadata": {}
        }
      ]
    },
    {
      "cell_type": "code",
      "metadata": {
        "colab": {
          "base_uri": "https://localhost:8080/"
        },
        "id": "QXTDR_D3n3GK",
        "outputId": "5ee040f8-ee9f-41ef-98a4-bc7b7803038a"
      },
      "source": [
        "from sklearn.metrics import r2_score\n",
        "r2 = r2_score(y_train,ypred)\n",
        "print(r2)"
      ],
      "execution_count": null,
      "outputs": [
        {
          "output_type": "stream",
          "name": "stdout",
          "text": [
            "0.9431448031600045\n"
          ]
        }
      ]
    },
    {
      "cell_type": "code",
      "metadata": {
        "colab": {
          "base_uri": "https://localhost:8080/"
        },
        "id": "jMCRGoV_n27w",
        "outputId": "8ed2a5d7-c503-44d1-dbb4-90512330d128"
      },
      "source": [
        "from sklearn.metrics import r2_score\n",
        "r2 = r2_score(y_test,ypred_test)\n",
        "print(r2)"
      ],
      "execution_count": null,
      "outputs": [
        {
          "output_type": "stream",
          "name": "stdout",
          "text": [
            "0.6141272686364176\n"
          ]
        }
      ]
    },
    {
      "cell_type": "markdown",
      "metadata": {
        "id": "0TD7T-Khg0s4"
      },
      "source": [
        "### Getting Feature Importance from Tree based models"
      ]
    },
    {
      "cell_type": "code",
      "metadata": {
        "id": "8W44F0yRoCqN"
      },
      "source": [
        "## Get important Features\n",
        "feat_importances = pd.Series(clf.feature_importances_, index = X_train .columns)"
      ],
      "execution_count": null,
      "outputs": []
    },
    {
      "cell_type": "code",
      "metadata": {
        "colab": {
          "base_uri": "https://localhost:8080/"
        },
        "id": "SnyZMf8xn2so",
        "outputId": "a26c3aa0-9677-443e-f6dc-544ed341b4af"
      },
      "source": [
        "## Sort importances  \n",
        "feat_importances_ordered = feat_importances.nlargest(n=41)\n",
        "feat_importances_ordered"
      ],
      "execution_count": null,
      "outputs": [
        {
          "output_type": "execute_result",
          "data": {
            "text/plain": [
              "acousticness        0.554301\n",
              "loudness            0.111101\n",
              "valence             0.065309\n",
              "liveness            0.055970\n",
              "danceability        0.042689\n",
              "duration_ms         0.040904\n",
              "instrumentalness    0.033391\n",
              "speechiness         0.030341\n",
              "energy              0.025648\n",
              "tempo               0.022305\n",
              "count               0.009494\n",
              "key                 0.008547\n",
              "dtype: float64"
            ]
          },
          "metadata": {},
          "execution_count": 57
        }
      ]
    },
    {
      "cell_type": "code",
      "metadata": {
        "colab": {
          "base_uri": "https://localhost:8080/",
          "height": 264
        },
        "id": "I6dBy8P_m57Z",
        "outputId": "49bfc0a3-4260-4596-ae88-f641929d144a"
      },
      "source": [
        "## Plot Importance\n",
        "from matplotlib import pyplot as plt #plt is a visualization module in matplotlib.  \n",
        "%matplotlib inline\n",
        "feat_importances_ordered.plot(kind='barh')\n",
        "plt.show()"
      ],
      "execution_count": null,
      "outputs": [
        {
          "output_type": "display_data",
          "data": {
            "image/png": "[encoded data removed]",
            "text/plain": [
              "<Figure size 432x288 with 1 Axes>"
            ]
          },
          "metadata": {
            "needs_background": "light"
          }
        }
      ]
    },
    {
      "cell_type": "markdown",
      "metadata": {
        "id": "5q-NJl3-klb4"
      },
      "source": [
        "## Random Forest with GridSearch CV"
      ]
    },
    {
      "cell_type": "code",
      "metadata": {
        "colab": {
          "base_uri": "https://localhost:8080/"
        },
        "id": "Fwqr3GYDjZzN",
        "outputId": "0cb13baa-3e9c-4de8-bdf4-3e44a4980eed"
      },
      "source": [
        "rf_grid = RandomForestRegressor(n_jobs=-1)\n",
        "param_grid = {\"n_estimators\" : [50,100],\n",
        "           \"max_depth\" : [ 7, 10, 20],\n",
        "           \"min_samples_leaf\" : [20,45,60]}\n",
        " \n",
        "rf_cv_grid = GridSearchCV(estimator = rf_grid, param_grid = param_grid, cv = 5,n_jobs=-1)\n",
        "rf_cv_grid.fit(X_train, y_train)\n",
        "rf_cv_grid.best_estimator_"
      ],
      "execution_count": 32,
      "outputs": [
        {
          "output_type": "execute_result",
          "data": {
            "text/plain": [
              "RandomForestRegressor(max_depth=20, min_samples_leaf=20, n_jobs=-1)"
            ]
          },
          "metadata": {},
          "execution_count": 32
        }
      ]
    },
    {
      "cell_type": "code",
      "metadata": {
        "id": "NvfR2oqqjZpm"
      },
      "source": [
        "ypred = rf_cv_grid.best_estimator_.predict(X_train)\n",
        "ypred_test = rf_cv_grid.best_estimator_.predict(X_test)"
      ],
      "execution_count": 33,
      "outputs": []
    },
    {
      "cell_type": "markdown",
      "metadata": {
        "id": "j6yaanddk7Ms"
      },
      "source": [
        "### Plotting Learning Curves"
      ]
    },
    {
      "cell_type": "code",
      "metadata": {
        "colab": {
          "base_uri": "https://localhost:8080/",
          "height": 392
        },
        "id": "GKySNTUCjY2m",
        "outputId": "2a3e69eb-27bd-4018-f0df-14ded2a85ee4"
      },
      "source": [
        "import matplotlib.pyplot as plt\n",
        "from mlxtend.plotting import plot_learning_curves\n",
        "plot_learning_curves(X_train, ypred, X_test, ypred_test, rf_cv_grid.best_estimator_,scoring='mean_squared_error')\n",
        "plt.show()"
      ],
      "execution_count": 34,
      "outputs": [
        {
          "output_type": "display_data",
          "data": {
            "image/png": "[encoded data removed]",
            "text/plain": [
              "<Figure size 432x288 with 1 Axes>"
            ]
          },
          "metadata": {}
        }
      ]
    },
    {
      "cell_type": "code",
      "metadata": {
        "colab": {
          "base_uri": "https://localhost:8080/"
        },
        "id": "cBM-aeBhkTeC",
        "outputId": "1cfdef7b-ea4f-4ba3-8555-a1777804b423"
      },
      "source": [
        "from sklearn.metrics import r2_score\n",
        "r2 = r2_score(y_train,ypred)\n",
        "print(r2)"
      ],
      "execution_count": 35,
      "outputs": [
        {
          "output_type": "stream",
          "name": "stdout",
          "text": [
            "0.6985798260656599\n"
          ]
        }
      ]
    },
    {
      "cell_type": "code",
      "metadata": {
        "colab": {
          "base_uri": "https://localhost:8080/"
        },
        "id": "idee1v-2kTXJ",
        "outputId": "a980ac0f-db74-490b-9086-bc9df297b7de"
      },
      "source": [
        "from sklearn.metrics import r2_score\n",
        "r2 = r2_score(y_test,ypred_test)\n",
        "print(r2)"
      ],
      "execution_count": 36,
      "outputs": [
        {
          "output_type": "stream",
          "name": "stdout",
          "text": [
            "0.6079717172454466\n"
          ]
        }
      ]
    },
    {
      "cell_type": "markdown",
      "metadata": {
        "id": "RdW38gSfg8zg"
      },
      "source": [
        "# Artists Dataset"
      ]
    },
    {
      "cell_type": "code",
      "metadata": {
        "colab": {
          "base_uri": "https://localhost:8080/"
        },
        "id": "0R11vrimYJZP",
        "outputId": "5b2a975a-b213-4c58-8cdd-2d3834892c5e"
      },
      "source": [
        "artists.columns"
      ],
      "execution_count": 16,
      "outputs": [
        {
          "output_type": "execute_result",
          "data": {
            "text/plain": [
              "Index(['artists', 'acousticness', 'danceability', 'duration_ms', 'energy',\n",
              "       'instrumentalness', 'liveness', 'loudness', 'speechiness', 'tempo',\n",
              "       'valence', 'popularity', 'key', 'mode', 'count'],\n",
              "      dtype='object')"
            ]
          },
          "metadata": {},
          "execution_count": 16
        }
      ]
    },
    {
      "cell_type": "code",
      "metadata": {
        "id": "uFKkM_hIwL6X"
      },
      "source": [
        "artists2 = artists[['acousticness', 'danceability', 'duration_ms', 'energy',\n",
        "       'instrumentalness', 'liveness', 'loudness', 'speechiness', 'tempo',\n",
        "       'valence', 'popularity', 'key', 'count']]"
      ],
      "execution_count": 17,
      "outputs": []
    },
    {
      "cell_type": "code",
      "metadata": {
        "id": "d3crwaR4d5LS"
      },
      "source": [
        "from sklearn.model_selection import train_test_split\n",
        "X_train, X_test, y_train, y_test = train_test_split( artists2.drop(\"popularity\",axis=1), artists2['popularity'], test_size=0.2, random_state=42)"
      ],
      "execution_count": 18,
      "outputs": []
    },
    {
      "cell_type": "markdown",
      "metadata": {
        "id": "Jb0H1xNyhAFd"
      },
      "source": [
        "## Linear Regression"
      ]
    },
    {
      "cell_type": "code",
      "metadata": {
        "id": "sN4sVeZnrLBB"
      },
      "source": [
        "lr = LinearRegression()\n",
        "lr.fit(X_train, y_train)\n",
        "ypred = lr.predict(X_train)\n",
        "ypred_test = lr.predict(X_test)\n"
      ],
      "execution_count": 37,
      "outputs": []
    },
    {
      "cell_type": "markdown",
      "metadata": {
        "id": "JXUThPcrk8Xw"
      },
      "source": [
        "### Plotting Learning Curves"
      ]
    },
    {
      "cell_type": "code",
      "metadata": {
        "colab": {
          "base_uri": "https://localhost:8080/",
          "height": 391
        },
        "id": "Q5zkwLXHftNN",
        "outputId": "cf1c8bc8-ef73-47d1-83cd-f7f892c50705"
      },
      "source": [
        "from mlxtend.plotting import plot_learning_curves\n",
        "plot_learning_curves(X_train, ypred, X_test, ypred_test, lr,scoring='mean_squared_error')\n",
        "plt.show()"
      ],
      "execution_count": 22,
      "outputs": [
        {
          "output_type": "display_data",
          "data": {
            "image/png": "[encoded data removed]",
            "text/plain": [
              "<Figure size 432x288 with 1 Axes>"
            ]
          },
          "metadata": {}
        }
      ]
    },
    {
      "cell_type": "code",
      "metadata": {
        "colab": {
          "base_uri": "https://localhost:8080/"
        },
        "id": "4WDtxan6fs-T",
        "outputId": "5605694e-28b8-4fe9-9063-4510a63c01b8"
      },
      "source": [
        "from sklearn.metrics import r2_score\n",
        "r2 = r2_score(y_train,ypred)\n",
        "print(r2)"
      ],
      "execution_count": 38,
      "outputs": [
        {
          "output_type": "stream",
          "name": "stdout",
          "text": [
            "0.45882828948608856\n"
          ]
        }
      ]
    },
    {
      "cell_type": "code",
      "metadata": {
        "colab": {
          "base_uri": "https://localhost:8080/"
        },
        "id": "cYWG9I0vh-hO",
        "outputId": "82aaa73b-3a09-4fc5-bc5e-9298e51de11f"
      },
      "source": [
        "from sklearn.metrics import r2_score\n",
        "r2 = r2_score(y_test,ypred_test)\n",
        "print(r2)"
      ],
      "execution_count": 39,
      "outputs": [
        {
          "output_type": "stream",
          "name": "stdout",
          "text": [
            "0.4587446696649542\n"
          ]
        }
      ]
    },
    {
      "cell_type": "markdown",
      "metadata": {
        "id": "tVDCh4E9hHDW"
      },
      "source": [
        "## Random Forest"
      ]
    },
    {
      "cell_type": "code",
      "metadata": {
        "colab": {
          "base_uri": "https://localhost:8080/"
        },
        "id": "HJ2hPIkid5JF",
        "outputId": "8cce521d-fdd3-4e0c-f7d0-6c1f1bc93705"
      },
      "source": [
        "\n",
        "clf = RandomForestRegressor(n_jobs=-1)\n",
        "clf.fit(X_train, y_train)\n"
      ],
      "execution_count": null,
      "outputs": [
        {
          "output_type": "execute_result",
          "data": {
            "text/plain": [
              "RandomForestRegressor(n_jobs=-1)"
            ]
          },
          "metadata": {},
          "execution_count": 36
        }
      ]
    },
    {
      "cell_type": "code",
      "metadata": {
        "id": "AePO9YVfd5Fe"
      },
      "source": [
        "ypred = clf.predict(X_train)\n",
        "ypred_test = clf.predict(X_test)"
      ],
      "execution_count": null,
      "outputs": []
    },
    {
      "cell_type": "markdown",
      "metadata": {
        "id": "MfO7yLYHk9ue"
      },
      "source": [
        "### Plotting Learning Curves"
      ]
    },
    {
      "cell_type": "code",
      "metadata": {
        "colab": {
          "base_uri": "https://localhost:8080/",
          "height": 392
        },
        "id": "TQdt-K9ed4_A",
        "outputId": "d72b7f82-7190-4ca6-a985-8d8445a2be70"
      },
      "source": [
        "plot_learning_curves(X_train, ypred, X_test, ypred_test, clf,scoring='mean_squared_error')\n",
        "plt.show()"
      ],
      "execution_count": null,
      "outputs": [
        {
          "output_type": "display_data",
          "data": {
            "image/png": "[encoded data removed]",
            "text/plain": [
              "<Figure size 432x288 with 1 Axes>"
            ]
          },
          "metadata": {}
        }
      ]
    },
    {
      "cell_type": "code",
      "metadata": {
        "colab": {
          "base_uri": "https://localhost:8080/"
        },
        "id": "XLq7EEmkd5EH",
        "outputId": "e36f2043-4a2f-4abe-9897-6529eb2487e0"
      },
      "source": [
        "from sklearn.metrics import r2_score\n",
        "r2 = r2_score(y_train,ypred)\n",
        "print(r2)"
      ],
      "execution_count": null,
      "outputs": [
        {
          "output_type": "stream",
          "name": "stdout",
          "text": [
            "0.9593506972586875\n"
          ]
        }
      ]
    },
    {
      "cell_type": "code",
      "metadata": {
        "colab": {
          "base_uri": "https://localhost:8080/"
        },
        "id": "GxMUmKrud5Bz",
        "outputId": "9b97241f-10b9-4431-af93-92b0feeb6ae8"
      },
      "source": [
        "from sklearn.metrics import r2_score\n",
        "r2 = r2_score(y_test,ypred_test)\n",
        "print(r2)"
      ],
      "execution_count": null,
      "outputs": [
        {
          "output_type": "stream",
          "name": "stdout",
          "text": [
            "0.7097509887779363\n"
          ]
        }
      ]
    },
    {
      "cell_type": "markdown",
      "metadata": {
        "id": "6qt0B4yTgBO5"
      },
      "source": [
        "## Random Forest with Grid Search CV"
      ]
    },
    {
      "cell_type": "code",
      "metadata": {
        "colab": {
          "base_uri": "https://localhost:8080/"
        },
        "id": "V1ztKLkJY5X9",
        "outputId": "dc748d32-040b-4f3d-ed1f-1c38f7fc2083"
      },
      "source": [
        "rf_grid = RandomForestRegressor(n_jobs=-1)\n",
        "param_grid = {\"n_estimators\" : [50,100],\n",
        "           \"max_depth\" : [ 7, 10, 20],\n",
        "           \"min_samples_leaf\" : [20,45,60]}\n",
        " \n",
        "rf_cv_grid = GridSearchCV(estimator = rf_grid, param_grid = param_grid, cv = 5)\n",
        "rf_cv_grid.fit(X_train, y_train)\n",
        "rf_cv_grid.best_estimator_"
      ],
      "execution_count": null,
      "outputs": [
        {
          "output_type": "execute_result",
          "data": {
            "text/plain": [
              "RandomForestRegressor(max_depth=20, min_samples_leaf=20, n_jobs=-1)"
            ]
          },
          "metadata": {},
          "execution_count": 43
        }
      ]
    },
    {
      "cell_type": "code",
      "metadata": {
        "id": "TMvqREBQhmVa"
      },
      "source": [
        "ypred = rf_cv_grid.best_estimator_.predict(X_train)\n",
        "ypred_test = rf_cv_grid.best_estimator_.predict(X_test)"
      ],
      "execution_count": null,
      "outputs": []
    },
    {
      "cell_type": "markdown",
      "metadata": {
        "id": "X4OvifPFk_Rl"
      },
      "source": [
        "### Plotting Learning Curves"
      ]
    },
    {
      "cell_type": "code",
      "metadata": {
        "colab": {
          "base_uri": "https://localhost:8080/",
          "height": 392
        },
        "id": "sF_VXV7gYSrT",
        "outputId": "2a224c55-4e96-4be2-8363-0f3f41bbdded"
      },
      "source": [
        "plot_learning_curves(X_train, ypred, X_test, ypred_test, rf_cv_grid.best_estimator_,scoring='mean_squared_error')\n",
        "plt.show()"
      ],
      "execution_count": null,
      "outputs": [
        {
          "output_type": "display_data",
          "data": {
            "image/png": "[encoded data removed]",
            "text/plain": [
              "<Figure size 432x288 with 1 Axes>"
            ]
          },
          "metadata": {}
        }
      ]
    },
    {
      "cell_type": "code",
      "metadata": {
        "colab": {
          "base_uri": "https://localhost:8080/"
        },
        "id": "8NlKViwLhmMZ",
        "outputId": "c5288605-e5aa-4f7b-dddd-2a1f390a26d0"
      },
      "source": [
        "from sklearn.metrics import r2_score\n",
        "r2 = r2_score(y_train,ypred)\n",
        "print(r2)"
      ],
      "execution_count": null,
      "outputs": [
        {
          "output_type": "stream",
          "name": "stdout",
          "text": [
            "0.7189084762874246\n"
          ]
        }
      ]
    },
    {
      "cell_type": "code",
      "metadata": {
        "colab": {
          "base_uri": "https://localhost:8080/"
        },
        "id": "-9Ko3rKnhmJi",
        "outputId": "1abfc0ee-5b58-406a-d38e-21bcceeb3b96"
      },
      "source": [
        "from sklearn.metrics import r2_score\n",
        "r2 = r2_score(y_test,ypred_test)\n",
        "print(r2)"
      ],
      "execution_count": null,
      "outputs": [
        {
          "output_type": "stream",
          "name": "stdout",
          "text": [
            "0.6516060587731578\n"
          ]
        }
      ]
    },
    {
      "cell_type": "markdown",
      "metadata": {
        "id": "guSvMc4ghNXf"
      },
      "source": [
        "### Getting Feature Importance"
      ]
    },
    {
      "cell_type": "code",
      "metadata": {
        "id": "ab858A2Zfyoa"
      },
      "source": [
        "## Get important Features\n",
        "feat_importances = pd.Series(rf_cv_grid.best_estimator_.feature_importances_, index = X_train .columns)"
      ],
      "execution_count": null,
      "outputs": []
    },
    {
      "cell_type": "code",
      "metadata": {
        "colab": {
          "base_uri": "https://localhost:8080/"
        },
        "id": "-ZXSzAQFfyk7",
        "outputId": "ab48e4d0-4dd4-49c5-887e-2394f5f333c1"
      },
      "source": [
        "## Sort importances  \n",
        "feat_importances_ordered = feat_importances.nlargest(n=41)\n",
        "feat_importances_ordered"
      ],
      "execution_count": null,
      "outputs": [
        {
          "output_type": "execute_result",
          "data": {
            "text/plain": [
              "acousticness        0.648656\n",
              "loudness            0.114802\n",
              "valence             0.058265\n",
              "liveness            0.051512\n",
              "danceability        0.031892\n",
              "duration_ms         0.026192\n",
              "instrumentalness    0.025065\n",
              "speechiness         0.015624\n",
              "energy              0.014180\n",
              "tempo               0.007844\n",
              "count               0.004364\n",
              "key                 0.001604\n",
              "dtype: float64"
            ]
          },
          "metadata": {},
          "execution_count": 54
        }
      ]
    },
    {
      "cell_type": "code",
      "metadata": {
        "colab": {
          "base_uri": "https://localhost:8080/",
          "height": 264
        },
        "id": "XIrCHIEff7nR",
        "outputId": "aaa052e9-3434-4c15-d04b-e9f0c15f0443"
      },
      "source": [
        "## Plot Importance\n",
        "from matplotlib import pyplot as plt #plt is a visualization module in matplotlib.  \n",
        "%matplotlib inline\n",
        "feat_importances_ordered.plot(kind='barh')\n",
        "plt.show()"
      ],
      "execution_count": null,
      "outputs": [
        {
          "output_type": "display_data",
          "data": {
            "image/png": "[encoded data removed]",
            "text/plain": [
              "<Figure size 432x288 with 1 Axes>"
            ]
          },
          "metadata": {
            "needs_background": "light"
          }
        }
      ]
    },
    {
      "cell_type": "markdown",
      "metadata": {
        "id": "gORctac3lgZJ"
      },
      "source": [
        "# OPTICS Clustering"
      ]
    },
    {
      "cell_type": "code",
      "metadata": {
        "colab": {
          "base_uri": "https://localhost:8080/",
          "height": 444
        },
        "id": "XPPf-ApzIaSC",
        "outputId": "abf8a040-2b87-4fe9-86cb-bb0c88300395"
      },
      "source": [
        "pd.read_csv(\"clustering_hana.csv\")"
      ],
      "execution_count": null,
      "outputs": [
        {
          "output_type": "execute_result",
          "data": {
            "text/html": [
              "<div>\n",
              "<style scoped>\n",
              "    .dataframe tbody tr th:only-of-type {\n",
              "        vertical-align: middle;\n",
              "    }\n",
              "\n",
              "    .dataframe tbody tr th {\n",
              "        vertical-align: top;\n",
              "    }\n",
              "\n",
              "    .dataframe thead th {\n",
              "        text-align: right;\n",
              "    }\n",
              "</style>\n",
              "<table border=\"1\" class=\"dataframe\">\n",
              "  <thead>\n",
              "    <tr style=\"text-align: right;\">\n",
              "      <th></th>\n",
              "      <th>acousticness</th>\n",
              "      <th>danceability</th>\n",
              "      <th>energy</th>\n",
              "      <th>instrumentalness</th>\n",
              "      <th>liveness</th>\n",
              "      <th>loudness</th>\n",
              "      <th>speechiness</th>\n",
              "      <th>tempo</th>\n",
              "      <th>valence</th>\n",
              "      <th>kmeans</th>\n",
              "      <th>ward</th>\n",
              "      <th>complete</th>\n",
              "      <th>average</th>\n",
              "      <th>single</th>\n",
              "      <th>id</th>\n",
              "      <th>pca1</th>\n",
              "      <th>pca2</th>\n",
              "      <th>tsne1</th>\n",
              "      <th>tsne2</th>\n",
              "    </tr>\n",
              "  </thead>\n",
              "  <tbody>\n",
              "    <tr>\n",
              "      <th>0</th>\n",
              "      <td>0.9900</td>\n",
              "      <td>0.210</td>\n",
              "      <td>0.2040</td>\n",
              "      <td>0.908000</td>\n",
              "      <td>0.0980</td>\n",
              "      <td>0.677256</td>\n",
              "      <td>0.0424</td>\n",
              "      <td>0.254614</td>\n",
              "      <td>0.0693</td>\n",
              "      <td>8</td>\n",
              "      <td>9</td>\n",
              "      <td>0</td>\n",
              "      <td>0</td>\n",
              "      <td>0</td>\n",
              "      <td>6N6tiFZ9vLTSOIxkj8qKrd</td>\n",
              "      <td>1.024585</td>\n",
              "      <td>0.546189</td>\n",
              "      <td>33.225710</td>\n",
              "      <td>28.768063</td>\n",
              "    </tr>\n",
              "    <tr>\n",
              "      <th>1</th>\n",
              "      <td>0.9890</td>\n",
              "      <td>0.170</td>\n",
              "      <td>0.0823</td>\n",
              "      <td>0.911000</td>\n",
              "      <td>0.0962</td>\n",
              "      <td>0.468954</td>\n",
              "      <td>0.0317</td>\n",
              "      <td>0.352283</td>\n",
              "      <td>0.3460</td>\n",
              "      <td>8</td>\n",
              "      <td>9</td>\n",
              "      <td>0</td>\n",
              "      <td>0</td>\n",
              "      <td>0</td>\n",
              "      <td>6QIONtzbQCbnmWNwn0H1yT</td>\n",
              "      <td>1.040260</td>\n",
              "      <td>0.380986</td>\n",
              "      <td>29.691717</td>\n",
              "      <td>41.710354</td>\n",
              "    </tr>\n",
              "    <tr>\n",
              "      <th>2</th>\n",
              "      <td>0.9770</td>\n",
              "      <td>0.305</td>\n",
              "      <td>0.0830</td>\n",
              "      <td>0.697000</td>\n",
              "      <td>0.2310</td>\n",
              "      <td>0.613470</td>\n",
              "      <td>0.0331</td>\n",
              "      <td>0.330295</td>\n",
              "      <td>0.0479</td>\n",
              "      <td>8</td>\n",
              "      <td>9</td>\n",
              "      <td>0</td>\n",
              "      <td>0</td>\n",
              "      <td>0</td>\n",
              "      <td>6duqhjENDYbR2Q4Hpogh9M</td>\n",
              "      <td>1.005221</td>\n",
              "      <td>0.400223</td>\n",
              "      <td>26.245148</td>\n",
              "      <td>-2.528315</td>\n",
              "    </tr>\n",
              "    <tr>\n",
              "      <th>3</th>\n",
              "      <td>0.9900</td>\n",
              "      <td>0.337</td>\n",
              "      <td>0.0699</td>\n",
              "      <td>0.903000</td>\n",
              "      <td>0.1060</td>\n",
              "      <td>0.567802</td>\n",
              "      <td>0.0322</td>\n",
              "      <td>0.295517</td>\n",
              "      <td>0.1350</td>\n",
              "      <td>8</td>\n",
              "      <td>9</td>\n",
              "      <td>0</td>\n",
              "      <td>0</td>\n",
              "      <td>0</td>\n",
              "      <td>6hUMURfCaJ6JB8EWL1ZLr7</td>\n",
              "      <td>1.066209</td>\n",
              "      <td>0.445275</td>\n",
              "      <td>32.760010</td>\n",
              "      <td>34.758990</td>\n",
              "    </tr>\n",
              "    <tr>\n",
              "      <th>4</th>\n",
              "      <td>0.9850</td>\n",
              "      <td>0.355</td>\n",
              "      <td>0.0452</td>\n",
              "      <td>0.825000</td>\n",
              "      <td>0.1530</td>\n",
              "      <td>0.562798</td>\n",
              "      <td>0.0329</td>\n",
              "      <td>0.346391</td>\n",
              "      <td>0.2760</td>\n",
              "      <td>8</td>\n",
              "      <td>9</td>\n",
              "      <td>0</td>\n",
              "      <td>0</td>\n",
              "      <td>0</td>\n",
              "      <td>6j8nMxm9yFxN3Mdodm9tEl</td>\n",
              "      <td>1.006414</td>\n",
              "      <td>0.311425</td>\n",
              "      <td>29.033144</td>\n",
              "      <td>40.063270</td>\n",
              "    </tr>\n",
              "    <tr>\n",
              "      <th>...</th>\n",
              "      <td>...</td>\n",
              "      <td>...</td>\n",
              "      <td>...</td>\n",
              "      <td>...</td>\n",
              "      <td>...</td>\n",
              "      <td>...</td>\n",
              "      <td>...</td>\n",
              "      <td>...</td>\n",
              "      <td>...</td>\n",
              "      <td>...</td>\n",
              "      <td>...</td>\n",
              "      <td>...</td>\n",
              "      <td>...</td>\n",
              "      <td>...</td>\n",
              "      <td>...</td>\n",
              "      <td>...</td>\n",
              "      <td>...</td>\n",
              "      <td>...</td>\n",
              "      <td>...</td>\n",
              "    </tr>\n",
              "    <tr>\n",
              "      <th>142547</th>\n",
              "      <td>0.1730</td>\n",
              "      <td>0.875</td>\n",
              "      <td>0.4430</td>\n",
              "      <td>0.000032</td>\n",
              "      <td>0.0891</td>\n",
              "      <td>0.824219</td>\n",
              "      <td>0.1430</td>\n",
              "      <td>0.409732</td>\n",
              "      <td>0.3060</td>\n",
              "      <td>10</td>\n",
              "      <td>-1</td>\n",
              "      <td>-1</td>\n",
              "      <td>-1</td>\n",
              "      <td>-1</td>\n",
              "      <td>4KppkflX7I3vJQk7urOJaS</td>\n",
              "      <td>-0.160869</td>\n",
              "      <td>0.039555</td>\n",
              "      <td>40.275524</td>\n",
              "      <td>-1.326706</td>\n",
              "    </tr>\n",
              "    <tr>\n",
              "      <th>142548</th>\n",
              "      <td>0.0167</td>\n",
              "      <td>0.719</td>\n",
              "      <td>0.3850</td>\n",
              "      <td>0.031300</td>\n",
              "      <td>0.1110</td>\n",
              "      <td>0.770159</td>\n",
              "      <td>0.0403</td>\n",
              "      <td>0.524395</td>\n",
              "      <td>0.2700</td>\n",
              "      <td>10</td>\n",
              "      <td>-1</td>\n",
              "      <td>-1</td>\n",
              "      <td>-1</td>\n",
              "      <td>-1</td>\n",
              "      <td>1ehhGlTvjtHo2e4xJFB0SZ</td>\n",
              "      <td>-0.199051</td>\n",
              "      <td>0.189858</td>\n",
              "      <td>39.562122</td>\n",
              "      <td>-6.098898</td>\n",
              "    </tr>\n",
              "    <tr>\n",
              "      <th>142549</th>\n",
              "      <td>0.5380</td>\n",
              "      <td>0.514</td>\n",
              "      <td>0.5390</td>\n",
              "      <td>0.002330</td>\n",
              "      <td>0.1080</td>\n",
              "      <td>0.794867</td>\n",
              "      <td>0.1050</td>\n",
              "      <td>0.506778</td>\n",
              "      <td>0.1530</td>\n",
              "      <td>10</td>\n",
              "      <td>-1</td>\n",
              "      <td>-1</td>\n",
              "      <td>-1</td>\n",
              "      <td>-1</td>\n",
              "      <td>52eycxprLhK3lPcRLbQiVk</td>\n",
              "      <td>0.152793</td>\n",
              "      <td>0.109856</td>\n",
              "      <td>-31.554756</td>\n",
              "      <td>-28.559607</td>\n",
              "    </tr>\n",
              "    <tr>\n",
              "      <th>142550</th>\n",
              "      <td>0.0714</td>\n",
              "      <td>0.646</td>\n",
              "      <td>0.7610</td>\n",
              "      <td>0.000000</td>\n",
              "      <td>0.2220</td>\n",
              "      <td>0.901151</td>\n",
              "      <td>0.0385</td>\n",
              "      <td>0.532244</td>\n",
              "      <td>0.4720</td>\n",
              "      <td>7</td>\n",
              "      <td>-1</td>\n",
              "      <td>-1</td>\n",
              "      <td>-1</td>\n",
              "      <td>-1</td>\n",
              "      <td>3wYOGJYD31sLRmBgCvWxa4</td>\n",
              "      <td>-0.426606</td>\n",
              "      <td>0.115415</td>\n",
              "      <td>-11.995120</td>\n",
              "      <td>16.776615</td>\n",
              "    </tr>\n",
              "    <tr>\n",
              "      <th>142551</th>\n",
              "      <td>0.1090</td>\n",
              "      <td>0.512</td>\n",
              "      <td>0.4280</td>\n",
              "      <td>0.000000</td>\n",
              "      <td>0.1050</td>\n",
              "      <td>0.825380</td>\n",
              "      <td>0.0271</td>\n",
              "      <td>0.330156</td>\n",
              "      <td>0.3660</td>\n",
              "      <td>10</td>\n",
              "      <td>-1</td>\n",
              "      <td>-1</td>\n",
              "      <td>-1</td>\n",
              "      <td>-1</td>\n",
              "      <td>60RFlt48hm0l4Fu0JoccOl</td>\n",
              "      <td>-0.151443</td>\n",
              "      <td>0.146772</td>\n",
              "      <td>42.661720</td>\n",
              "      <td>-12.800914</td>\n",
              "    </tr>\n",
              "  </tbody>\n",
              "</table>\n",
              "<p>142552 rows × 19 columns</p>\n",
              "</div>"
            ],
            "text/plain": [
              "        acousticness  danceability  energy  ...      pca2      tsne1      tsne2\n",
              "0             0.9900         0.210  0.2040  ...  0.546189  33.225710  28.768063\n",
              "1             0.9890         0.170  0.0823  ...  0.380986  29.691717  41.710354\n",
              "2             0.9770         0.305  0.0830  ...  0.400223  26.245148  -2.528315\n",
              "3             0.9900         0.337  0.0699  ...  0.445275  32.760010  34.758990\n",
              "4             0.9850         0.355  0.0452  ...  0.311425  29.033144  40.063270\n",
              "...              ...           ...     ...  ...       ...        ...        ...\n",
              "142547        0.1730         0.875  0.4430  ...  0.039555  40.275524  -1.326706\n",
              "142548        0.0167         0.719  0.3850  ...  0.189858  39.562122  -6.098898\n",
              "142549        0.5380         0.514  0.5390  ...  0.109856 -31.554756 -28.559607\n",
              "142550        0.0714         0.646  0.7610  ...  0.115415 -11.995120  16.776615\n",
              "142551        0.1090         0.512  0.4280  ...  0.146772  42.661720 -12.800914\n",
              "\n",
              "[142552 rows x 19 columns]"
            ]
          },
          "metadata": {},
          "execution_count": 2
        }
      ]
    },
    {
      "cell_type": "code",
      "metadata": {
        "id": "bWg042-umRL_"
      },
      "source": [
        "hana_data = pd.read_csv(\"clustering_hana.csv\")"
      ],
      "execution_count": null,
      "outputs": []
    },
    {
      "cell_type": "code",
      "metadata": {
        "id": "9KM7iJ4smOeY"
      },
      "source": [
        "hana_data2  = hana_data[['acousticness', 'danceability', 'energy', 'instrumentalness',\n",
        "       'liveness', 'loudness', 'speechiness', 'tempo', 'valence']]"
      ],
      "execution_count": null,
      "outputs": []
    },
    {
      "cell_type": "code",
      "metadata": {
        "id": "OXH7HF2Zlfe_"
      },
      "source": [
        "from sklearn import metrics\n",
        "from sklearn.cluster import OPTICS\n",
        "import pickle\n",
        "dbs = OPTICS(metric= 'euclidean',n_jobs = -1)\n",
        "\n",
        "hana_data2_new = dbs.fit_predict(hana_data2)"
      ],
      "execution_count": null,
      "outputs": []
    },
    {
      "cell_type": "code",
      "metadata": {
        "colab": {
          "background_save": true
        },
        "id": "4U9Hsayrq9Pt",
        "outputId": "199e4ce3-7f71-4d92-ef09-9e9db00a42ee"
      },
      "source": [
        "score = metrics.silhouette_score(hana_data2, dbs.labels_, metric='euclidean')\n",
        "score"
      ],
      "execution_count": null,
      "outputs": [
        {
          "data": {
            "text/plain": [
              "-0.6094464793593994"
            ]
          },
          "execution_count": null,
          "metadata": {},
          "output_type": "execute_result"
        }
      ]
    },
    {
      "cell_type": "code",
      "metadata": {
        "colab": {
          "base_uri": "https://localhost:8080/"
        },
        "id": "vyaocS7debsW",
        "outputId": "ea7a8ad2-76b3-4fac-951a-06667ba87b5f"
      },
      "source": [
        "pd.Series((dbs.labels_)).value_counts()"
      ],
      "execution_count": null,
      "outputs": [
        {
          "output_type": "execute_result",
          "data": {
            "text/plain": [
              "-1       134799\n",
              " 1178        22\n",
              " 969         18\n",
              " 921         17\n",
              " 137         16\n",
              "          ...  \n",
              " 321          5\n",
              " 193          5\n",
              " 960          5\n",
              " 832          5\n",
              " 0            5\n",
              "Length: 1196, dtype: int64"
            ]
          },
          "metadata": {},
          "execution_count": 49
        }
      ]
    },
    {
      "cell_type": "code",
      "metadata": {
        "id": "swhTWgAFmmtR"
      },
      "source": [
        "pd.DataFrame(dbs.labels_).to_csv(\"labels_optics\",sep= ',')"
      ],
      "execution_count": null,
      "outputs": []
    },
    {
      "cell_type": "code",
      "metadata": {
        "id": "LiSVxsCZmuwC"
      },
      "source": [
        "pickle.dump(dbs, open(\"optics_clustering_data\", 'wb'))"
      ],
      "execution_count": null,
      "outputs": []
    },
    {
      "cell_type": "code",
      "metadata": {
        "id": "0NQciQvrl8O0"
      },
      "source": [
        "safss = pd.concat([pd.DataFrame(train_set),pd.DataFrame(dbs.labels_)],axis=1)"
      ],
      "execution_count": null,
      "outputs": []
    },
    {
      "cell_type": "code",
      "metadata": {
        "id": "fRfnCbpSl-oW"
      },
      "source": [
        "safss.to_csv(\"OPTICS_Data.csv\",sep = ',')"
      ],
      "execution_count": null,
      "outputs": []
    },
    {
      "cell_type": "markdown",
      "metadata": {
        "id": "_adVU4J6gIwY"
      },
      "source": [
        "# Looking at the subgroups in the data (Rules generation)"
      ]
    },
    {
      "cell_type": "code",
      "metadata": {
        "colab": {
          "base_uri": "https://localhost:8080/"
        },
        "id": "l8kpnMb3YSoj",
        "outputId": "d14f3ffd-137f-401b-dcef-c25f164045ad"
      },
      "source": [
        "pip install random-subgroups"
      ],
      "execution_count": null,
      "outputs": [
        {
          "output_type": "stream",
          "name": "stdout",
          "text": [
            "Collecting random-subgroups\n",
            "  Downloading random_subgroups-0.4.1-py3-none-any.whl (18 kB)\n",
            "Requirement already satisfied: numpy in /usr/local/lib/python3.7/dist-packages (from random-subgroups) (1.19.5)\n",
            "Collecting pysubgroup==0.7.2\n",
            "  Downloading pysubgroup-0.7.2-py3-none-any.whl (80 kB)\n",
            "\u001b[K     |████████████████████████████████| 80 kB 5.1 MB/s \n",
            "\u001b[?25hRequirement already satisfied: scikit-learn in /usr/local/lib/python3.7/dist-packages (from random-subgroups) (1.0.1)\n",
            "Requirement already satisfied: pandas in /usr/local/lib/python3.7/dist-packages (from random-subgroups) (1.1.5)\n",
            "Requirement already satisfied: scipy in /usr/local/lib/python3.7/dist-packages (from pysubgroup==0.7.2->random-subgroups) (1.4.1)\n",
            "Requirement already satisfied: matplotlib in /usr/local/lib/python3.7/dist-packages (from pysubgroup==0.7.2->random-subgroups) (3.2.2)\n",
            "Requirement already satisfied: pytz>=2017.2 in /usr/local/lib/python3.7/dist-packages (from pandas->random-subgroups) (2018.9)\n",
            "Requirement already satisfied: python-dateutil>=2.7.3 in /usr/local/lib/python3.7/dist-packages (from pandas->random-subgroups) (2.8.2)\n",
            "Requirement already satisfied: six>=1.5 in /usr/local/lib/python3.7/dist-packages (from python-dateutil>=2.7.3->pandas->random-subgroups) (1.15.0)\n",
            "Requirement already satisfied: pyparsing!=2.0.4,!=2.1.2,!=2.1.6,>=2.0.1 in /usr/local/lib/python3.7/dist-packages (from matplotlib->pysubgroup==0.7.2->random-subgroups) (3.0.6)\n",
            "Requirement already satisfied: cycler>=0.10 in /usr/local/lib/python3.7/dist-packages (from matplotlib->pysubgroup==0.7.2->random-subgroups) (0.11.0)\n",
            "Requirement already satisfied: kiwisolver>=1.0.1 in /usr/local/lib/python3.7/dist-packages (from matplotlib->pysubgroup==0.7.2->random-subgroups) (1.3.2)\n",
            "Requirement already satisfied: joblib>=0.11 in /usr/local/lib/python3.7/dist-packages (from scikit-learn->random-subgroups) (1.1.0)\n",
            "Requirement already satisfied: threadpoolctl>=2.0.0 in /usr/local/lib/python3.7/dist-packages (from scikit-learn->random-subgroups) (3.0.0)\n",
            "Installing collected packages: pysubgroup, random-subgroups\n",
            "Successfully installed pysubgroup-0.7.2 random-subgroups-0.4.1\n"
          ]
        }
      ]
    },
    {
      "cell_type": "markdown",
      "metadata": {
        "id": "yLKf4vmZhT-O"
      },
      "source": [
        "## Artists dataset"
      ]
    },
    {
      "cell_type": "code",
      "metadata": {
        "colab": {
          "base_uri": "https://localhost:8080/"
        },
        "id": "J7xzB_BCYSlS",
        "outputId": "f2017160-f83e-4b83-e73c-c198569592ad"
      },
      "source": [
        "from randomsubgroups import RandomSubgroupRegressor\n",
        "# from sklearn import datasets\n",
        "\n",
        "# specifying target variable\n",
        "y = artists.popularity\n",
        "\n",
        "# our independent variables\n",
        "X=artists.copy().drop([\"popularity\",\"artists\"],axis=1)\n",
        "\n",
        "# n_estimators total no of rules that are generated\n",
        "sg_classifier = RandomSubgroupRegressor(n_estimators=30,max_depth=5)\n",
        "\n",
        "sg_classifier.fit(X, y)\n",
        "\n"
      ],
      "execution_count": null,
      "outputs": [
        {
          "output_type": "execute_result",
          "data": {
            "text/plain": [
              "RandomSubgroupRegressor(max_depth=5, max_features=3, n_estimators=30)"
            ]
          },
          "metadata": {},
          "execution_count": 82
        }
      ]
    },
    {
      "cell_type": "code",
      "metadata": {
        "colab": {
          "base_uri": "https://localhost:8080/"
        },
        "id": "gGyZKCSk6QDq",
        "outputId": "1a683d0b-17fb-402d-f717-d54a02e3fc9b"
      },
      "source": [
        "sg_classifier.show_models()"
      ],
      "execution_count": null,
      "outputs": [
        {
          "output_type": "stream",
          "name": "stdout",
          "text": [
            "Target: 7.424043093246476; Model: acousticness>=0.87 AND duration_ms<207085.46 AND valence>=0.22\n",
            "Target: 9.180235806238993; Model: acousticness>=0.86 AND instrumentalness>=0.12 AND valence>=0.22\n",
            "Target: 9.45456690541231; Model: acousticness>=0.87 AND valence>=0.22\n",
            "Target: 9.652796735759654; Model: acousticness>=0.87 AND valence>=0.22\n",
            "Target: 9.669025481749005; Model: acousticness>=0.86 AND energy<0.79 AND liveness>=0.12\n",
            "Target: 9.976120782047872; Model: acousticness>=0.86 AND energy<0.44 AND liveness>=0.12\n",
            "Target: 10.333748265688355; Model: acousticness>=0.86 AND instrumentalness>=0.12 AND liveness>=0.12 AND loudness<-9.20\n",
            "Target: 10.862782578938342; Model: acousticness>=0.87 AND danceability<0.73 AND duration_ms<206800.0 AND energy<0.44\n",
            "Target: 11.44458645412135; Model: acousticness>=0.86 AND energy<0.32 AND instrumentalness<0.55\n",
            "Target: 12.861744525594085; Model: acousticness>=0.63 AND instrumentalness>=0.11 AND valence>=0.22\n",
            "Target: 13.786186528414202; Model: acousticness>=0.86\n",
            "Target: 14.198062227039513; Model: acousticness>=0.86\n",
            "Target: 16.096308849248103; Model: energy<0.56 AND instrumentalness>=0.11 AND liveness>=0.12\n",
            "Target: 21.456422308561258; Model: danceability<0.73 AND energy<0.44\n",
            "Target: 22.320195607434215; Model: energy<0.45\n",
            "Target: 25.361394092833724; Model: instrumentalness>=0.12\n",
            "Target: 45.225047394675144; Model: acousticness<0.63 AND duration_ms>=188175.0 AND speechiness<0.03\n",
            "Target: 46.12365721192581; Model: acousticness<0.63 AND duration_ms>=206493.71 AND instrumentalness<0.58 AND speechiness<0.03\n",
            "Target: 47.629367898129736; Model: acousticness<0.64 AND energy>=0.19 AND instrumentalness<0.12 AND tempo>=118.98\n",
            "Target: 48.73947333526303; Model: acousticness<0.64 AND duration_ms>=187014.0 AND instrumentalness<0.01 AND tempo>=119.05\n",
            "Target: 49.53824276787408; Model: acousticness<0.63 AND danceability>=0.65 AND energy>=0.44 AND instrumentalness<0.57\n",
            "Target: 50.11854755395923; Model: energy>=0.44 AND instrumentalness<0.56 AND loudness>=-7.31\n",
            "Target: 50.54748246649633; Model: acousticness<0.86 AND danceability>=0.66 AND duration_ms>=187676.81 AND loudness>=-9.16\n",
            "Target: 50.827050058641085; Model: acousticness<0.63 AND energy>=0.44 AND loudness>=-7.30\n",
            "Target: 51.06657527187089; Model: acousticness<0.64 AND energy>=0.31 AND instrumentalness<0.56 AND loudness>=-7.33\n",
            "Target: 51.081962998137875; Model: acousticness<0.62 AND energy>=0.45 AND loudness>=-7.28\n",
            "Target: 51.154802245051314; Model: acousticness<0.64 AND instrumentalness<0.57 AND loudness>=-7.36\n",
            "Target: 51.59616011607882; Model: danceability>=0.65 AND energy>=0.44 AND loudness>=-11.12 AND valence<0.79\n",
            "Target: 51.84558696755455; Model: acousticness<0.64 AND danceability>=0.66 AND energy>=0.44 AND instrumentalness<0.11 AND loudness>=-9.15\n",
            "Target: 51.93704051929232; Model: acousticness<0.64 AND duration_ms>=161817.23 AND instrumentalness<0.00 AND liveness<0.12 AND loudness>=-9.19\n"
          ]
        }
      ]
    },
    {
      "cell_type": "code",
      "metadata": {
        "id": "hIMk2PiffJmS"
      },
      "source": [
        "sorted_list = [[sg_classifier.target, sg_classifier] for sg_classifier in\n",
        "                sorted(sg_classifier.estimators_, key=lambda e: e.target)]"
      ],
      "execution_count": null,
      "outputs": []
    },
    {
      "cell_type": "code",
      "metadata": {
        "colab": {
          "base_uri": "https://localhost:8080/",
          "height": 990
        },
        "id": "MgonhBPrfJcY",
        "outputId": "cf54e812-861e-4d0b-e967-d362aa923fb4"
      },
      "source": [
        "pd.set_option(\"max_columns\",100)\n",
        "rules_df = pd.DataFrame(sorted_list,columns= ['Target','Rules'])\n",
        "rules_df"
      ],
      "execution_count": null,
      "outputs": [
        {
          "output_type": "execute_result",
          "data": {
            "text/html": [
              "<div>\n",
              "<style scoped>\n",
              "    .dataframe tbody tr th:only-of-type {\n",
              "        vertical-align: middle;\n",
              "    }\n",
              "\n",
              "    .dataframe tbody tr th {\n",
              "        vertical-align: top;\n",
              "    }\n",
              "\n",
              "    .dataframe thead th {\n",
              "        text-align: right;\n",
              "    }\n",
              "</style>\n",
              "<table border=\"1\" class=\"dataframe\">\n",
              "  <thead>\n",
              "    <tr style=\"text-align: right;\">\n",
              "      <th></th>\n",
              "      <th>Target</th>\n",
              "      <th>Rules</th>\n",
              "    </tr>\n",
              "  </thead>\n",
              "  <tbody>\n",
              "    <tr>\n",
              "      <th>0</th>\n",
              "      <td>5.688628</td>\n",
              "      <td>acousticness&gt;=0.87 AND instrumentalness&gt;=0.12 ...</td>\n",
              "    </tr>\n",
              "    <tr>\n",
              "      <th>1</th>\n",
              "      <td>8.295231</td>\n",
              "      <td>acousticness&gt;=0.87 AND energy&lt;0.45 AND livenes...</td>\n",
              "    </tr>\n",
              "    <tr>\n",
              "      <th>2</th>\n",
              "      <td>8.601598</td>\n",
              "      <td>acousticness&gt;=0.63 AND duration_ms&lt;207004.86 A...</td>\n",
              "    </tr>\n",
              "    <tr>\n",
              "      <th>3</th>\n",
              "      <td>8.870894</td>\n",
              "      <td>acousticness&gt;=0.87 AND danceability&lt;0.73 AND l...</td>\n",
              "    </tr>\n",
              "    <tr>\n",
              "      <th>4</th>\n",
              "      <td>9.159171</td>\n",
              "      <td>acousticness&gt;=0.86 AND liveness&gt;=0.12</td>\n",
              "    </tr>\n",
              "    <tr>\n",
              "      <th>5</th>\n",
              "      <td>9.693645</td>\n",
              "      <td>acousticness&gt;=0.87 AND energy&lt;0.44 AND livenes...</td>\n",
              "    </tr>\n",
              "    <tr>\n",
              "      <th>6</th>\n",
              "      <td>9.825834</td>\n",
              "      <td>acousticness&gt;=0.86 AND liveness&gt;=0.12</td>\n",
              "    </tr>\n",
              "    <tr>\n",
              "      <th>7</th>\n",
              "      <td>11.021965</td>\n",
              "      <td>acousticness&gt;=0.86 AND energy&lt;0.32 AND valence...</td>\n",
              "    </tr>\n",
              "    <tr>\n",
              "      <th>8</th>\n",
              "      <td>13.347847</td>\n",
              "      <td>acousticness&gt;=0.87</td>\n",
              "    </tr>\n",
              "    <tr>\n",
              "      <th>9</th>\n",
              "      <td>13.513991</td>\n",
              "      <td>acousticness&gt;=0.86</td>\n",
              "    </tr>\n",
              "    <tr>\n",
              "      <th>10</th>\n",
              "      <td>13.682194</td>\n",
              "      <td>acousticness&gt;=0.86</td>\n",
              "    </tr>\n",
              "    <tr>\n",
              "      <th>11</th>\n",
              "      <td>13.743177</td>\n",
              "      <td>acousticness&gt;=0.86</td>\n",
              "    </tr>\n",
              "    <tr>\n",
              "      <th>12</th>\n",
              "      <td>14.341310</td>\n",
              "      <td>energy&lt;0.56 AND instrumentalness&gt;=0.11 AND lou...</td>\n",
              "    </tr>\n",
              "    <tr>\n",
              "      <th>13</th>\n",
              "      <td>14.544363</td>\n",
              "      <td>acousticness&gt;=0.86 AND energy&lt;0.45</td>\n",
              "    </tr>\n",
              "    <tr>\n",
              "      <th>14</th>\n",
              "      <td>15.782371</td>\n",
              "      <td>danceability&lt;0.73 AND energy&lt;0.45 AND liveness...</td>\n",
              "    </tr>\n",
              "    <tr>\n",
              "      <th>15</th>\n",
              "      <td>16.413496</td>\n",
              "      <td>energy&lt;0.44 AND liveness&gt;=0.12 AND speechiness...</td>\n",
              "    </tr>\n",
              "    <tr>\n",
              "      <th>16</th>\n",
              "      <td>18.136838</td>\n",
              "      <td>energy&lt;0.44 AND speechiness&gt;=0.04</td>\n",
              "    </tr>\n",
              "    <tr>\n",
              "      <th>17</th>\n",
              "      <td>21.278776</td>\n",
              "      <td>instrumentalness&gt;=0.11 AND valence&gt;=0.37</td>\n",
              "    </tr>\n",
              "    <tr>\n",
              "      <th>18</th>\n",
              "      <td>49.313450</td>\n",
              "      <td>acousticness&lt;0.63 AND danceability&gt;=0.53 AND d...</td>\n",
              "    </tr>\n",
              "    <tr>\n",
              "      <th>19</th>\n",
              "      <td>49.319698</td>\n",
              "      <td>loudness&gt;=-7.34</td>\n",
              "    </tr>\n",
              "    <tr>\n",
              "      <th>20</th>\n",
              "      <td>49.356312</td>\n",
              "      <td>acousticness&lt;0.63 AND danceability&gt;=0.65 AND d...</td>\n",
              "    </tr>\n",
              "    <tr>\n",
              "      <th>21</th>\n",
              "      <td>49.456310</td>\n",
              "      <td>loudness&gt;=-7.34</td>\n",
              "    </tr>\n",
              "    <tr>\n",
              "      <th>22</th>\n",
              "      <td>49.745271</td>\n",
              "      <td>count&gt;=2.0 AND energy&gt;=0.32 AND instrumentalne...</td>\n",
              "    </tr>\n",
              "    <tr>\n",
              "      <th>23</th>\n",
              "      <td>49.901369</td>\n",
              "      <td>danceability&gt;=0.34 AND loudness&gt;=-7.36</td>\n",
              "    </tr>\n",
              "    <tr>\n",
              "      <th>24</th>\n",
              "      <td>50.566707</td>\n",
              "      <td>acousticness&lt;0.63 AND danceability&gt;=0.66 AND e...</td>\n",
              "    </tr>\n",
              "    <tr>\n",
              "      <th>25</th>\n",
              "      <td>50.882160</td>\n",
              "      <td>danceability&gt;=0.35 AND duration_ms&gt;=162427.0 A...</td>\n",
              "    </tr>\n",
              "    <tr>\n",
              "      <th>26</th>\n",
              "      <td>51.388324</td>\n",
              "      <td>acousticness&lt;0.63 AND instrumentalness&lt;0.56 AN...</td>\n",
              "    </tr>\n",
              "    <tr>\n",
              "      <th>27</th>\n",
              "      <td>51.450347</td>\n",
              "      <td>acousticness&lt;0.63 AND danceability&gt;=0.35 AND e...</td>\n",
              "    </tr>\n",
              "    <tr>\n",
              "      <th>28</th>\n",
              "      <td>51.524360</td>\n",
              "      <td>acousticness&lt;0.64 AND danceability&gt;=0.35 AND l...</td>\n",
              "    </tr>\n",
              "    <tr>\n",
              "      <th>29</th>\n",
              "      <td>51.740155</td>\n",
              "      <td>acousticness&lt;0.64 AND energy&gt;=0.19 AND loudnes...</td>\n",
              "    </tr>\n",
              "  </tbody>\n",
              "</table>\n",
              "</div>"
            ],
            "text/plain": [
              "       Target                                              Rules\n",
              "0    5.688628  acousticness>=0.87 AND instrumentalness>=0.12 ...\n",
              "1    8.295231  acousticness>=0.87 AND energy<0.45 AND livenes...\n",
              "2    8.601598  acousticness>=0.63 AND duration_ms<207004.86 A...\n",
              "3    8.870894  acousticness>=0.87 AND danceability<0.73 AND l...\n",
              "4    9.159171              acousticness>=0.86 AND liveness>=0.12\n",
              "5    9.693645  acousticness>=0.87 AND energy<0.44 AND livenes...\n",
              "6    9.825834              acousticness>=0.86 AND liveness>=0.12\n",
              "7   11.021965  acousticness>=0.86 AND energy<0.32 AND valence...\n",
              "8   13.347847                                 acousticness>=0.87\n",
              "9   13.513991                                 acousticness>=0.86\n",
              "10  13.682194                                 acousticness>=0.86\n",
              "11  13.743177                                 acousticness>=0.86\n",
              "12  14.341310  energy<0.56 AND instrumentalness>=0.11 AND lou...\n",
              "13  14.544363                 acousticness>=0.86 AND energy<0.45\n",
              "14  15.782371  danceability<0.73 AND energy<0.45 AND liveness...\n",
              "15  16.413496  energy<0.44 AND liveness>=0.12 AND speechiness...\n",
              "16  18.136838                  energy<0.44 AND speechiness>=0.04\n",
              "17  21.278776           instrumentalness>=0.11 AND valence>=0.37\n",
              "18  49.313450  acousticness<0.63 AND danceability>=0.53 AND d...\n",
              "19  49.319698                                    loudness>=-7.34\n",
              "20  49.356312  acousticness<0.63 AND danceability>=0.65 AND d...\n",
              "21  49.456310                                    loudness>=-7.34\n",
              "22  49.745271  count>=2.0 AND energy>=0.32 AND instrumentalne...\n",
              "23  49.901369             danceability>=0.34 AND loudness>=-7.36\n",
              "24  50.566707  acousticness<0.63 AND danceability>=0.66 AND e...\n",
              "25  50.882160  danceability>=0.35 AND duration_ms>=162427.0 A...\n",
              "26  51.388324  acousticness<0.63 AND instrumentalness<0.56 AN...\n",
              "27  51.450347  acousticness<0.63 AND danceability>=0.35 AND e...\n",
              "28  51.524360  acousticness<0.64 AND danceability>=0.35 AND l...\n",
              "29  51.740155  acousticness<0.64 AND energy>=0.19 AND loudnes..."
            ]
          },
          "metadata": {},
          "execution_count": 69
        }
      ]
    },
    {
      "cell_type": "code",
      "metadata": {
        "id": "gy1tPZBZrQLh"
      },
      "source": [
        "rules_df.to_csv(\"rules_df_artists.csv\",sep = ',',index=False)"
      ],
      "execution_count": null,
      "outputs": []
    },
    {
      "cell_type": "markdown",
      "metadata": {
        "id": "3j83603GhYJb"
      },
      "source": [
        "## Songs dataset"
      ]
    },
    {
      "cell_type": "code",
      "metadata": {
        "colab": {
          "base_uri": "https://localhost:8080/",
          "height": 434
        },
        "id": "dsc3gsl3s0As",
        "outputId": "25e3cacd-4045-4683-cc24-cc44d6abe9e0"
      },
      "source": [
        "songs.head()"
      ],
      "execution_count": null,
      "outputs": [
        {
          "output_type": "execute_result",
          "data": {
            "text/html": [
              "<div>\n",
              "<style scoped>\n",
              "    .dataframe tbody tr th:only-of-type {\n",
              "        vertical-align: middle;\n",
              "    }\n",
              "\n",
              "    .dataframe tbody tr th {\n",
              "        vertical-align: top;\n",
              "    }\n",
              "\n",
              "    .dataframe thead th {\n",
              "        text-align: right;\n",
              "    }\n",
              "</style>\n",
              "<table border=\"1\" class=\"dataframe\">\n",
              "  <thead>\n",
              "    <tr style=\"text-align: right;\">\n",
              "      <th></th>\n",
              "      <th>acousticness</th>\n",
              "      <th>artists</th>\n",
              "      <th>danceability</th>\n",
              "      <th>duration_ms</th>\n",
              "      <th>energy</th>\n",
              "      <th>explicit</th>\n",
              "      <th>id</th>\n",
              "      <th>instrumentalness</th>\n",
              "      <th>key</th>\n",
              "      <th>liveness</th>\n",
              "      <th>loudness</th>\n",
              "      <th>mode</th>\n",
              "      <th>name</th>\n",
              "      <th>popularity</th>\n",
              "      <th>release_date</th>\n",
              "      <th>speechiness</th>\n",
              "      <th>tempo</th>\n",
              "      <th>valence</th>\n",
              "      <th>year</th>\n",
              "    </tr>\n",
              "  </thead>\n",
              "  <tbody>\n",
              "    <tr>\n",
              "      <th>0</th>\n",
              "      <td>0.995</td>\n",
              "      <td>['Carl Woitschach']</td>\n",
              "      <td>0.708</td>\n",
              "      <td>158648</td>\n",
              "      <td>0.1950</td>\n",
              "      <td>0</td>\n",
              "      <td>6KbQ3uYMLKb5jDxLF7wYDD</td>\n",
              "      <td>0.563</td>\n",
              "      <td>10</td>\n",
              "      <td>0.1510</td>\n",
              "      <td>-12.428</td>\n",
              "      <td>1</td>\n",
              "      <td>Singende Bataillone 1. Teil</td>\n",
              "      <td>0</td>\n",
              "      <td>1928</td>\n",
              "      <td>0.0506</td>\n",
              "      <td>118.469</td>\n",
              "      <td>0.7790</td>\n",
              "      <td>1928</td>\n",
              "    </tr>\n",
              "    <tr>\n",
              "      <th>1</th>\n",
              "      <td>0.994</td>\n",
              "      <td>['Robert Schumann', 'Vladimir Horowitz']</td>\n",
              "      <td>0.379</td>\n",
              "      <td>282133</td>\n",
              "      <td>0.0135</td>\n",
              "      <td>0</td>\n",
              "      <td>6KuQTIu1KoTTkLXKrwlLPV</td>\n",
              "      <td>0.901</td>\n",
              "      <td>8</td>\n",
              "      <td>0.0763</td>\n",
              "      <td>-28.454</td>\n",
              "      <td>1</td>\n",
              "      <td>Fantasiestücke, Op. 111: Più tosto lento</td>\n",
              "      <td>0</td>\n",
              "      <td>1928</td>\n",
              "      <td>0.0462</td>\n",
              "      <td>83.972</td>\n",
              "      <td>0.0767</td>\n",
              "      <td>1928</td>\n",
              "    </tr>\n",
              "    <tr>\n",
              "      <th>2</th>\n",
              "      <td>0.604</td>\n",
              "      <td>['Seweryn Goszczyński']</td>\n",
              "      <td>0.749</td>\n",
              "      <td>104300</td>\n",
              "      <td>0.2200</td>\n",
              "      <td>0</td>\n",
              "      <td>6L63VW0PibdM1HDSBoqnoM</td>\n",
              "      <td>0.000</td>\n",
              "      <td>5</td>\n",
              "      <td>0.1190</td>\n",
              "      <td>-19.924</td>\n",
              "      <td>0</td>\n",
              "      <td>Chapter 1.18 - Zamek kaniowski</td>\n",
              "      <td>0</td>\n",
              "      <td>1928</td>\n",
              "      <td>0.9290</td>\n",
              "      <td>107.177</td>\n",
              "      <td>0.8800</td>\n",
              "      <td>1928</td>\n",
              "    </tr>\n",
              "    <tr>\n",
              "      <th>3</th>\n",
              "      <td>0.995</td>\n",
              "      <td>['Francisco Canaro']</td>\n",
              "      <td>0.781</td>\n",
              "      <td>180760</td>\n",
              "      <td>0.1300</td>\n",
              "      <td>0</td>\n",
              "      <td>6M94FkXd15sOAOQYRnWPN8</td>\n",
              "      <td>0.887</td>\n",
              "      <td>1</td>\n",
              "      <td>0.1110</td>\n",
              "      <td>-14.734</td>\n",
              "      <td>0</td>\n",
              "      <td>Bebamos Juntos - Instrumental (Remasterizado)</td>\n",
              "      <td>0</td>\n",
              "      <td>1928-09-25</td>\n",
              "      <td>0.0926</td>\n",
              "      <td>108.003</td>\n",
              "      <td>0.7200</td>\n",
              "      <td>1928</td>\n",
              "    </tr>\n",
              "    <tr>\n",
              "      <th>4</th>\n",
              "      <td>0.990</td>\n",
              "      <td>['Frédéric Chopin', 'Vladimir Horowitz']</td>\n",
              "      <td>0.210</td>\n",
              "      <td>687733</td>\n",
              "      <td>0.2040</td>\n",
              "      <td>0</td>\n",
              "      <td>6N6tiFZ9vLTSOIxkj8qKrd</td>\n",
              "      <td>0.908</td>\n",
              "      <td>11</td>\n",
              "      <td>0.0980</td>\n",
              "      <td>-16.829</td>\n",
              "      <td>1</td>\n",
              "      <td>Polonaise-Fantaisie in A-Flat Major, Op. 61</td>\n",
              "      <td>1</td>\n",
              "      <td>1928</td>\n",
              "      <td>0.0424</td>\n",
              "      <td>62.149</td>\n",
              "      <td>0.0693</td>\n",
              "      <td>1928</td>\n",
              "    </tr>\n",
              "  </tbody>\n",
              "</table>\n",
              "</div>"
            ],
            "text/plain": [
              "   acousticness                                   artists  danceability  \\\n",
              "0         0.995                       ['Carl Woitschach']         0.708   \n",
              "1         0.994  ['Robert Schumann', 'Vladimir Horowitz']         0.379   \n",
              "2         0.604                   ['Seweryn Goszczyński']         0.749   \n",
              "3         0.995                      ['Francisco Canaro']         0.781   \n",
              "4         0.990  ['Frédéric Chopin', 'Vladimir Horowitz']         0.210   \n",
              "\n",
              "   duration_ms  energy  explicit                      id  instrumentalness  \\\n",
              "0       158648  0.1950         0  6KbQ3uYMLKb5jDxLF7wYDD             0.563   \n",
              "1       282133  0.0135         0  6KuQTIu1KoTTkLXKrwlLPV             0.901   \n",
              "2       104300  0.2200         0  6L63VW0PibdM1HDSBoqnoM             0.000   \n",
              "3       180760  0.1300         0  6M94FkXd15sOAOQYRnWPN8             0.887   \n",
              "4       687733  0.2040         0  6N6tiFZ9vLTSOIxkj8qKrd             0.908   \n",
              "\n",
              "   key  liveness  loudness  mode  \\\n",
              "0   10    0.1510   -12.428     1   \n",
              "1    8    0.0763   -28.454     1   \n",
              "2    5    0.1190   -19.924     0   \n",
              "3    1    0.1110   -14.734     0   \n",
              "4   11    0.0980   -16.829     1   \n",
              "\n",
              "                                            name  popularity release_date  \\\n",
              "0                    Singende Bataillone 1. Teil           0         1928   \n",
              "1       Fantasiestücke, Op. 111: Più tosto lento           0         1928   \n",
              "2                 Chapter 1.18 - Zamek kaniowski           0         1928   \n",
              "3  Bebamos Juntos - Instrumental (Remasterizado)           0   1928-09-25   \n",
              "4    Polonaise-Fantaisie in A-Flat Major, Op. 61           1         1928   \n",
              "\n",
              "   speechiness    tempo  valence  year  \n",
              "0       0.0506  118.469   0.7790  1928  \n",
              "1       0.0462   83.972   0.0767  1928  \n",
              "2       0.9290  107.177   0.8800  1928  \n",
              "3       0.0926  108.003   0.7200  1928  \n",
              "4       0.0424   62.149   0.0693  1928  "
            ]
          },
          "metadata": {},
          "execution_count": 71
        }
      ]
    },
    {
      "cell_type": "code",
      "metadata": {
        "colab": {
          "base_uri": "https://localhost:8080/",
          "height": 443
        },
        "id": "0GPV5Akv0adQ",
        "outputId": "86bab4e0-62cb-42f5-f925-33d84d3ae8b1"
      },
      "source": [
        "X=songs.copy().drop([\"popularity\",\"artists\",'name'],axis=1)\n",
        "X"
      ],
      "execution_count": null,
      "outputs": [
        {
          "output_type": "execute_result",
          "data": {
            "text/html": [
              "<div>\n",
              "<style scoped>\n",
              "    .dataframe tbody tr th:only-of-type {\n",
              "        vertical-align: middle;\n",
              "    }\n",
              "\n",
              "    .dataframe tbody tr th {\n",
              "        vertical-align: top;\n",
              "    }\n",
              "\n",
              "    .dataframe thead th {\n",
              "        text-align: right;\n",
              "    }\n",
              "</style>\n",
              "<table border=\"1\" class=\"dataframe\">\n",
              "  <thead>\n",
              "    <tr style=\"text-align: right;\">\n",
              "      <th></th>\n",
              "      <th>acousticness</th>\n",
              "      <th>danceability</th>\n",
              "      <th>duration_ms</th>\n",
              "      <th>energy</th>\n",
              "      <th>explicit</th>\n",
              "      <th>id</th>\n",
              "      <th>instrumentalness</th>\n",
              "      <th>key</th>\n",
              "      <th>liveness</th>\n",
              "      <th>loudness</th>\n",
              "      <th>mode</th>\n",
              "      <th>release_date</th>\n",
              "      <th>speechiness</th>\n",
              "      <th>tempo</th>\n",
              "      <th>valence</th>\n",
              "      <th>year</th>\n",
              "    </tr>\n",
              "  </thead>\n",
              "  <tbody>\n",
              "    <tr>\n",
              "      <th>0</th>\n",
              "      <td>0.9950</td>\n",
              "      <td>0.708</td>\n",
              "      <td>158648</td>\n",
              "      <td>0.1950</td>\n",
              "      <td>0</td>\n",
              "      <td>6KbQ3uYMLKb5jDxLF7wYDD</td>\n",
              "      <td>0.563000</td>\n",
              "      <td>10</td>\n",
              "      <td>0.1510</td>\n",
              "      <td>-12.428</td>\n",
              "      <td>1</td>\n",
              "      <td>1928</td>\n",
              "      <td>0.0506</td>\n",
              "      <td>118.469</td>\n",
              "      <td>0.7790</td>\n",
              "      <td>1928</td>\n",
              "    </tr>\n",
              "    <tr>\n",
              "      <th>1</th>\n",
              "      <td>0.9940</td>\n",
              "      <td>0.379</td>\n",
              "      <td>282133</td>\n",
              "      <td>0.0135</td>\n",
              "      <td>0</td>\n",
              "      <td>6KuQTIu1KoTTkLXKrwlLPV</td>\n",
              "      <td>0.901000</td>\n",
              "      <td>8</td>\n",
              "      <td>0.0763</td>\n",
              "      <td>-28.454</td>\n",
              "      <td>1</td>\n",
              "      <td>1928</td>\n",
              "      <td>0.0462</td>\n",
              "      <td>83.972</td>\n",
              "      <td>0.0767</td>\n",
              "      <td>1928</td>\n",
              "    </tr>\n",
              "    <tr>\n",
              "      <th>2</th>\n",
              "      <td>0.6040</td>\n",
              "      <td>0.749</td>\n",
              "      <td>104300</td>\n",
              "      <td>0.2200</td>\n",
              "      <td>0</td>\n",
              "      <td>6L63VW0PibdM1HDSBoqnoM</td>\n",
              "      <td>0.000000</td>\n",
              "      <td>5</td>\n",
              "      <td>0.1190</td>\n",
              "      <td>-19.924</td>\n",
              "      <td>0</td>\n",
              "      <td>1928</td>\n",
              "      <td>0.9290</td>\n",
              "      <td>107.177</td>\n",
              "      <td>0.8800</td>\n",
              "      <td>1928</td>\n",
              "    </tr>\n",
              "    <tr>\n",
              "      <th>3</th>\n",
              "      <td>0.9950</td>\n",
              "      <td>0.781</td>\n",
              "      <td>180760</td>\n",
              "      <td>0.1300</td>\n",
              "      <td>0</td>\n",
              "      <td>6M94FkXd15sOAOQYRnWPN8</td>\n",
              "      <td>0.887000</td>\n",
              "      <td>1</td>\n",
              "      <td>0.1110</td>\n",
              "      <td>-14.734</td>\n",
              "      <td>0</td>\n",
              "      <td>1928-09-25</td>\n",
              "      <td>0.0926</td>\n",
              "      <td>108.003</td>\n",
              "      <td>0.7200</td>\n",
              "      <td>1928</td>\n",
              "    </tr>\n",
              "    <tr>\n",
              "      <th>4</th>\n",
              "      <td>0.9900</td>\n",
              "      <td>0.210</td>\n",
              "      <td>687733</td>\n",
              "      <td>0.2040</td>\n",
              "      <td>0</td>\n",
              "      <td>6N6tiFZ9vLTSOIxkj8qKrd</td>\n",
              "      <td>0.908000</td>\n",
              "      <td>11</td>\n",
              "      <td>0.0980</td>\n",
              "      <td>-16.829</td>\n",
              "      <td>1</td>\n",
              "      <td>1928</td>\n",
              "      <td>0.0424</td>\n",
              "      <td>62.149</td>\n",
              "      <td>0.0693</td>\n",
              "      <td>1928</td>\n",
              "    </tr>\n",
              "    <tr>\n",
              "      <th>...</th>\n",
              "      <td>...</td>\n",
              "      <td>...</td>\n",
              "      <td>...</td>\n",
              "      <td>...</td>\n",
              "      <td>...</td>\n",
              "      <td>...</td>\n",
              "      <td>...</td>\n",
              "      <td>...</td>\n",
              "      <td>...</td>\n",
              "      <td>...</td>\n",
              "      <td>...</td>\n",
              "      <td>...</td>\n",
              "      <td>...</td>\n",
              "      <td>...</td>\n",
              "      <td>...</td>\n",
              "      <td>...</td>\n",
              "    </tr>\n",
              "    <tr>\n",
              "      <th>169904</th>\n",
              "      <td>0.1730</td>\n",
              "      <td>0.875</td>\n",
              "      <td>163800</td>\n",
              "      <td>0.4430</td>\n",
              "      <td>1</td>\n",
              "      <td>4KppkflX7I3vJQk7urOJaS</td>\n",
              "      <td>0.000032</td>\n",
              "      <td>1</td>\n",
              "      <td>0.0891</td>\n",
              "      <td>-7.461</td>\n",
              "      <td>1</td>\n",
              "      <td>2020-05-15</td>\n",
              "      <td>0.1430</td>\n",
              "      <td>100.012</td>\n",
              "      <td>0.3060</td>\n",
              "      <td>2020</td>\n",
              "    </tr>\n",
              "    <tr>\n",
              "      <th>169905</th>\n",
              "      <td>0.0167</td>\n",
              "      <td>0.719</td>\n",
              "      <td>167468</td>\n",
              "      <td>0.3850</td>\n",
              "      <td>0</td>\n",
              "      <td>1ehhGlTvjtHo2e4xJFB0SZ</td>\n",
              "      <td>0.031300</td>\n",
              "      <td>8</td>\n",
              "      <td>0.1110</td>\n",
              "      <td>-10.907</td>\n",
              "      <td>1</td>\n",
              "      <td>2020-06-08</td>\n",
              "      <td>0.0403</td>\n",
              "      <td>128.000</td>\n",
              "      <td>0.2700</td>\n",
              "      <td>2020</td>\n",
              "    </tr>\n",
              "    <tr>\n",
              "      <th>169906</th>\n",
              "      <td>0.5380</td>\n",
              "      <td>0.514</td>\n",
              "      <td>180700</td>\n",
              "      <td>0.5390</td>\n",
              "      <td>0</td>\n",
              "      <td>52eycxprLhK3lPcRLbQiVk</td>\n",
              "      <td>0.002330</td>\n",
              "      <td>7</td>\n",
              "      <td>0.1080</td>\n",
              "      <td>-9.332</td>\n",
              "      <td>1</td>\n",
              "      <td>2020-05-29</td>\n",
              "      <td>0.1050</td>\n",
              "      <td>123.700</td>\n",
              "      <td>0.1530</td>\n",
              "      <td>2020</td>\n",
              "    </tr>\n",
              "    <tr>\n",
              "      <th>169907</th>\n",
              "      <td>0.0714</td>\n",
              "      <td>0.646</td>\n",
              "      <td>167308</td>\n",
              "      <td>0.7610</td>\n",
              "      <td>0</td>\n",
              "      <td>3wYOGJYD31sLRmBgCvWxa4</td>\n",
              "      <td>0.000000</td>\n",
              "      <td>1</td>\n",
              "      <td>0.2220</td>\n",
              "      <td>-2.557</td>\n",
              "      <td>1</td>\n",
              "      <td>2020-02-28</td>\n",
              "      <td>0.0385</td>\n",
              "      <td>129.916</td>\n",
              "      <td>0.4720</td>\n",
              "      <td>2020</td>\n",
              "    </tr>\n",
              "    <tr>\n",
              "      <th>169908</th>\n",
              "      <td>0.1090</td>\n",
              "      <td>0.512</td>\n",
              "      <td>214787</td>\n",
              "      <td>0.4280</td>\n",
              "      <td>0</td>\n",
              "      <td>60RFlt48hm0l4Fu0JoccOl</td>\n",
              "      <td>0.000000</td>\n",
              "      <td>0</td>\n",
              "      <td>0.1050</td>\n",
              "      <td>-7.387</td>\n",
              "      <td>1</td>\n",
              "      <td>2020-03-27</td>\n",
              "      <td>0.0271</td>\n",
              "      <td>80.588</td>\n",
              "      <td>0.3660</td>\n",
              "      <td>2020</td>\n",
              "    </tr>\n",
              "  </tbody>\n",
              "</table>\n",
              "<p>169909 rows × 16 columns</p>\n",
              "</div>"
            ],
            "text/plain": [
              "        acousticness  danceability  duration_ms  energy  explicit  \\\n",
              "0             0.9950         0.708       158648  0.1950         0   \n",
              "1             0.9940         0.379       282133  0.0135         0   \n",
              "2             0.6040         0.749       104300  0.2200         0   \n",
              "3             0.9950         0.781       180760  0.1300         0   \n",
              "4             0.9900         0.210       687733  0.2040         0   \n",
              "...              ...           ...          ...     ...       ...   \n",
              "169904        0.1730         0.875       163800  0.4430         1   \n",
              "169905        0.0167         0.719       167468  0.3850         0   \n",
              "169906        0.5380         0.514       180700  0.5390         0   \n",
              "169907        0.0714         0.646       167308  0.7610         0   \n",
              "169908        0.1090         0.512       214787  0.4280         0   \n",
              "\n",
              "                            id  instrumentalness  key  liveness  loudness  \\\n",
              "0       6KbQ3uYMLKb5jDxLF7wYDD          0.563000   10    0.1510   -12.428   \n",
              "1       6KuQTIu1KoTTkLXKrwlLPV          0.901000    8    0.0763   -28.454   \n",
              "2       6L63VW0PibdM1HDSBoqnoM          0.000000    5    0.1190   -19.924   \n",
              "3       6M94FkXd15sOAOQYRnWPN8          0.887000    1    0.1110   -14.734   \n",
              "4       6N6tiFZ9vLTSOIxkj8qKrd          0.908000   11    0.0980   -16.829   \n",
              "...                        ...               ...  ...       ...       ...   \n",
              "169904  4KppkflX7I3vJQk7urOJaS          0.000032    1    0.0891    -7.461   \n",
              "169905  1ehhGlTvjtHo2e4xJFB0SZ          0.031300    8    0.1110   -10.907   \n",
              "169906  52eycxprLhK3lPcRLbQiVk          0.002330    7    0.1080    -9.332   \n",
              "169907  3wYOGJYD31sLRmBgCvWxa4          0.000000    1    0.2220    -2.557   \n",
              "169908  60RFlt48hm0l4Fu0JoccOl          0.000000    0    0.1050    -7.387   \n",
              "\n",
              "        mode release_date  speechiness    tempo  valence  year  \n",
              "0          1         1928       0.0506  118.469   0.7790  1928  \n",
              "1          1         1928       0.0462   83.972   0.0767  1928  \n",
              "2          0         1928       0.9290  107.177   0.8800  1928  \n",
              "3          0   1928-09-25       0.0926  108.003   0.7200  1928  \n",
              "4          1         1928       0.0424   62.149   0.0693  1928  \n",
              "...      ...          ...          ...      ...      ...   ...  \n",
              "169904     1   2020-05-15       0.1430  100.012   0.3060  2020  \n",
              "169905     1   2020-06-08       0.0403  128.000   0.2700  2020  \n",
              "169906     1   2020-05-29       0.1050  123.700   0.1530  2020  \n",
              "169907     1   2020-02-28       0.0385  129.916   0.4720  2020  \n",
              "169908     1   2020-03-27       0.0271   80.588   0.3660  2020  \n",
              "\n",
              "[169909 rows x 16 columns]"
            ]
          },
          "metadata": {},
          "execution_count": 73
        }
      ]
    },
    {
      "cell_type": "code",
      "metadata": {
        "colab": {
          "base_uri": "https://localhost:8080/"
        },
        "id": "O-QvvtePfJXd",
        "outputId": "1b533304-11ba-40ec-c507-588cf2cf48d3"
      },
      "source": [
        "from randomsubgroups import RandomSubgroupRegressor\n",
        "# from sklearn import datasets\n",
        "\n",
        "# specifying target variable\n",
        "y = songs.popularity\n",
        "\n",
        "# our independent variables\n",
        "X=songs.copy().drop([\"popularity\",\"artists\",'name','id','release_date','year'],axis=1)\n",
        "\n",
        "# n_estimators total no of rules that are generated\n",
        "sg_classifier = RandomSubgroupRegressor(n_estimators=30,max_depth=5)\n",
        "\n",
        "sg_classifier.fit(X, y)\n",
        "\n"
      ],
      "execution_count": null,
      "outputs": [
        {
          "output_type": "execute_result",
          "data": {
            "text/plain": [
              "RandomSubgroupRegressor(max_depth=5, max_features=3, n_estimators=30)"
            ]
          },
          "metadata": {},
          "execution_count": 76
        }
      ]
    },
    {
      "cell_type": "code",
      "metadata": {
        "colab": {
          "base_uri": "https://localhost:8080/"
        },
        "id": "Qvnzbk7i6COC",
        "outputId": "0274bc1a-a307-4b4a-c284-9be4ef8e37f0"
      },
      "source": [
        "sg_classifier.show_models()"
      ],
      "execution_count": null,
      "outputs": [
        {
          "output_type": "stream",
          "name": "stdout",
          "text": [
            "Target: 9.91744151169766; Model: acousticness>=0.85 AND duration_ms<197396.29 AND speechiness>=0.03\n",
            "Target: 10.495787560915174; Model: acousticness>=0.85 AND instrumentalness>=0.04 AND liveness>=0.08\n",
            "Target: 10.826428945988464; Model: acousticness>=0.85 AND duration_ms<197467.0\n",
            "Target: 10.929006935446994; Model: acousticness>=0.85 AND instrumentalness>=0.03\n",
            "Target: 11.380238500851789; Model: acousticness>=0.85 AND speechiness>=0.03 AND tempo<83.08\n",
            "Target: 11.638239370009458; Model: acousticness>=0.85 AND speechiness>=0.03\n",
            "Target: 11.694187321781092; Model: acousticness>=0.85 AND danceability<0.73 AND duration_ms<197373.0 AND energy<0.42\n",
            "Target: 12.438128140703517; Model: acousticness>=0.85 AND tempo<82.93\n",
            "Target: 12.54382285820021; Model: acousticness>=0.85\n",
            "Target: 13.5484142413603; Model: acousticness>=0.85 AND energy<0.29 AND loudness<-7.60\n",
            "Target: 13.952447650395685; Model: danceability<0.73 AND duration_ms<197200.0 AND energy<0.42 AND loudness<-9.49 AND speechiness>=0.03\n",
            "Target: 14.783442179235678; Model: energy<0.29 AND liveness>=0.08 AND speechiness>=0.03\n",
            "Target: 15.146143468020398; Model: energy<0.29 AND speechiness>=0.03\n",
            "Target: 15.944985310213722; Model: energy<0.54 AND instrumentalness>=0.04\n",
            "Target: 16.351733811910805; Model: energy<0.29\n",
            "Target: 17.12563616105038; Model: instrumentalness>=0.04 AND liveness>=0.08 AND loudness<-9.52\n",
            "Target: 44.19106547641853; Model: acousticness<0.64 AND energy>=0.42 AND liveness<0.10\n",
            "Target: 46.41962722685614; Model: loudness>=-7.59\n",
            "Target: 46.452341722618115; Model: loudness>=-7.58\n",
            "Target: 46.82039118376879; Model: danceability>=0.73 AND duration_ms>=197400.0 AND instrumentalness<0.67\n",
            "Target: 48.26794258373206; Model: danceability>=0.73 AND loudness>=-9.49\n",
            "Target: 48.72958509972896; Model: danceability>=0.73 AND loudness>=-9.53\n",
            "Target: 49.033703887276076; Model: acousticness<0.64 AND instrumentalness<0.66 AND loudness>=-7.59\n",
            "Target: 49.16384247645193; Model: acousticness<0.63 AND instrumentalness<0.66 AND loudness>=-7.58\n",
            "Target: 49.381997358528906; Model: acousticness<0.64 AND danceability>=0.34 AND energy>=0.42 AND loudness>=-7.59\n",
            "Target: 49.695808957030465; Model: acousticness<0.64 AND duration_ms>=149621.0 AND instrumentalness<0.67 AND loudness>=-7.60\n",
            "Target: 49.743181521597286; Model: acousticness<0.64 AND instrumentalness<0.04 AND loudness>=-7.57\n",
            "Target: 49.95136540962289; Model: acousticness<0.64 AND danceability>=0.73 AND loudness>=-11.51\n",
            "Target: 49.964096136832794; Model: danceability>=0.73 AND energy>=0.42 AND loudness>=-9.51\n",
            "Target: 52.72719240114866; Model: acousticness<0.85 AND danceability>=0.73 AND loudness>=-9.50 AND tempo>=83.06 AND valence<0.84\n"
          ]
        }
      ]
    },
    {
      "cell_type": "code",
      "metadata": {
        "id": "n053IpBafJWJ"
      },
      "source": [
        "sorted_list = [[sg_classifier.target, sg_classifier] for sg_classifier in\n",
        "                sorted(sg_classifier.estimators_, key=lambda e: e.target)]"
      ],
      "execution_count": null,
      "outputs": []
    },
    {
      "cell_type": "code",
      "metadata": {
        "colab": {
          "base_uri": "https://localhost:8080/",
          "height": 990
        },
        "id": "0_jhoKtXrOQ4",
        "outputId": "d33e97fa-c024-41c2-933b-0ac2ba71b5dd"
      },
      "source": [
        "pd.set_option(\"max_columns\",100)\n",
        "rules_df = pd.DataFrame(sorted_list,columns= ['Target','Rules'])\n",
        "rules_df"
      ],
      "execution_count": null,
      "outputs": [
        {
          "output_type": "execute_result",
          "data": {
            "text/html": [
              "<div>\n",
              "<style scoped>\n",
              "    .dataframe tbody tr th:only-of-type {\n",
              "        vertical-align: middle;\n",
              "    }\n",
              "\n",
              "    .dataframe tbody tr th {\n",
              "        vertical-align: top;\n",
              "    }\n",
              "\n",
              "    .dataframe thead th {\n",
              "        text-align: right;\n",
              "    }\n",
              "</style>\n",
              "<table border=\"1\" class=\"dataframe\">\n",
              "  <thead>\n",
              "    <tr style=\"text-align: right;\">\n",
              "      <th></th>\n",
              "      <th>Target</th>\n",
              "      <th>Rules</th>\n",
              "    </tr>\n",
              "  </thead>\n",
              "  <tbody>\n",
              "    <tr>\n",
              "      <th>0</th>\n",
              "      <td>9.917442</td>\n",
              "      <td>acousticness&gt;=0.85 AND duration_ms&lt;197396.29 A...</td>\n",
              "    </tr>\n",
              "    <tr>\n",
              "      <th>1</th>\n",
              "      <td>10.495788</td>\n",
              "      <td>acousticness&gt;=0.85 AND instrumentalness&gt;=0.04 ...</td>\n",
              "    </tr>\n",
              "    <tr>\n",
              "      <th>2</th>\n",
              "      <td>10.826429</td>\n",
              "      <td>acousticness&gt;=0.85 AND duration_ms&lt;197467.0</td>\n",
              "    </tr>\n",
              "    <tr>\n",
              "      <th>3</th>\n",
              "      <td>10.929007</td>\n",
              "      <td>acousticness&gt;=0.85 AND instrumentalness&gt;=0.03</td>\n",
              "    </tr>\n",
              "    <tr>\n",
              "      <th>4</th>\n",
              "      <td>11.380239</td>\n",
              "      <td>acousticness&gt;=0.85 AND speechiness&gt;=0.03 AND t...</td>\n",
              "    </tr>\n",
              "    <tr>\n",
              "      <th>5</th>\n",
              "      <td>11.638239</td>\n",
              "      <td>acousticness&gt;=0.85 AND speechiness&gt;=0.03</td>\n",
              "    </tr>\n",
              "    <tr>\n",
              "      <th>6</th>\n",
              "      <td>11.694187</td>\n",
              "      <td>acousticness&gt;=0.85 AND danceability&lt;0.73 AND d...</td>\n",
              "    </tr>\n",
              "    <tr>\n",
              "      <th>7</th>\n",
              "      <td>12.438128</td>\n",
              "      <td>acousticness&gt;=0.85 AND tempo&lt;82.93</td>\n",
              "    </tr>\n",
              "    <tr>\n",
              "      <th>8</th>\n",
              "      <td>12.543823</td>\n",
              "      <td>acousticness&gt;=0.85</td>\n",
              "    </tr>\n",
              "    <tr>\n",
              "      <th>9</th>\n",
              "      <td>13.548414</td>\n",
              "      <td>acousticness&gt;=0.85 AND energy&lt;0.29 AND loudnes...</td>\n",
              "    </tr>\n",
              "    <tr>\n",
              "      <th>10</th>\n",
              "      <td>13.952448</td>\n",
              "      <td>danceability&lt;0.73 AND duration_ms&lt;197200.0 AND...</td>\n",
              "    </tr>\n",
              "    <tr>\n",
              "      <th>11</th>\n",
              "      <td>14.783442</td>\n",
              "      <td>energy&lt;0.29 AND liveness&gt;=0.08 AND speechiness...</td>\n",
              "    </tr>\n",
              "    <tr>\n",
              "      <th>12</th>\n",
              "      <td>15.146143</td>\n",
              "      <td>energy&lt;0.29 AND speechiness&gt;=0.03</td>\n",
              "    </tr>\n",
              "    <tr>\n",
              "      <th>13</th>\n",
              "      <td>15.944985</td>\n",
              "      <td>energy&lt;0.54 AND instrumentalness&gt;=0.04</td>\n",
              "    </tr>\n",
              "    <tr>\n",
              "      <th>14</th>\n",
              "      <td>16.351734</td>\n",
              "      <td>energy&lt;0.29</td>\n",
              "    </tr>\n",
              "    <tr>\n",
              "      <th>15</th>\n",
              "      <td>17.125636</td>\n",
              "      <td>instrumentalness&gt;=0.04 AND liveness&gt;=0.08 AND ...</td>\n",
              "    </tr>\n",
              "    <tr>\n",
              "      <th>16</th>\n",
              "      <td>44.191065</td>\n",
              "      <td>acousticness&lt;0.64 AND energy&gt;=0.42 AND livenes...</td>\n",
              "    </tr>\n",
              "    <tr>\n",
              "      <th>17</th>\n",
              "      <td>46.419627</td>\n",
              "      <td>loudness&gt;=-7.59</td>\n",
              "    </tr>\n",
              "    <tr>\n",
              "      <th>18</th>\n",
              "      <td>46.452342</td>\n",
              "      <td>loudness&gt;=-7.58</td>\n",
              "    </tr>\n",
              "    <tr>\n",
              "      <th>19</th>\n",
              "      <td>46.820391</td>\n",
              "      <td>danceability&gt;=0.73 AND duration_ms&gt;=197400.0 A...</td>\n",
              "    </tr>\n",
              "    <tr>\n",
              "      <th>20</th>\n",
              "      <td>48.267943</td>\n",
              "      <td>danceability&gt;=0.73 AND loudness&gt;=-9.49</td>\n",
              "    </tr>\n",
              "    <tr>\n",
              "      <th>21</th>\n",
              "      <td>48.729585</td>\n",
              "      <td>danceability&gt;=0.73 AND loudness&gt;=-9.53</td>\n",
              "    </tr>\n",
              "    <tr>\n",
              "      <th>22</th>\n",
              "      <td>49.033704</td>\n",
              "      <td>acousticness&lt;0.64 AND instrumentalness&lt;0.66 AN...</td>\n",
              "    </tr>\n",
              "    <tr>\n",
              "      <th>23</th>\n",
              "      <td>49.163842</td>\n",
              "      <td>acousticness&lt;0.63 AND instrumentalness&lt;0.66 AN...</td>\n",
              "    </tr>\n",
              "    <tr>\n",
              "      <th>24</th>\n",
              "      <td>49.381997</td>\n",
              "      <td>acousticness&lt;0.64 AND danceability&gt;=0.34 AND e...</td>\n",
              "    </tr>\n",
              "    <tr>\n",
              "      <th>25</th>\n",
              "      <td>49.695809</td>\n",
              "      <td>acousticness&lt;0.64 AND duration_ms&gt;=149621.0 AN...</td>\n",
              "    </tr>\n",
              "    <tr>\n",
              "      <th>26</th>\n",
              "      <td>49.743182</td>\n",
              "      <td>acousticness&lt;0.64 AND instrumentalness&lt;0.04 AN...</td>\n",
              "    </tr>\n",
              "    <tr>\n",
              "      <th>27</th>\n",
              "      <td>49.951365</td>\n",
              "      <td>acousticness&lt;0.64 AND danceability&gt;=0.73 AND l...</td>\n",
              "    </tr>\n",
              "    <tr>\n",
              "      <th>28</th>\n",
              "      <td>49.964096</td>\n",
              "      <td>danceability&gt;=0.73 AND energy&gt;=0.42 AND loudne...</td>\n",
              "    </tr>\n",
              "    <tr>\n",
              "      <th>29</th>\n",
              "      <td>52.727192</td>\n",
              "      <td>acousticness&lt;0.85 AND danceability&gt;=0.73 AND l...</td>\n",
              "    </tr>\n",
              "  </tbody>\n",
              "</table>\n",
              "</div>"
            ],
            "text/plain": [
              "       Target                                              Rules\n",
              "0    9.917442  acousticness>=0.85 AND duration_ms<197396.29 A...\n",
              "1   10.495788  acousticness>=0.85 AND instrumentalness>=0.04 ...\n",
              "2   10.826429        acousticness>=0.85 AND duration_ms<197467.0\n",
              "3   10.929007      acousticness>=0.85 AND instrumentalness>=0.03\n",
              "4   11.380239  acousticness>=0.85 AND speechiness>=0.03 AND t...\n",
              "5   11.638239           acousticness>=0.85 AND speechiness>=0.03\n",
              "6   11.694187  acousticness>=0.85 AND danceability<0.73 AND d...\n",
              "7   12.438128                 acousticness>=0.85 AND tempo<82.93\n",
              "8   12.543823                                 acousticness>=0.85\n",
              "9   13.548414  acousticness>=0.85 AND energy<0.29 AND loudnes...\n",
              "10  13.952448  danceability<0.73 AND duration_ms<197200.0 AND...\n",
              "11  14.783442  energy<0.29 AND liveness>=0.08 AND speechiness...\n",
              "12  15.146143                  energy<0.29 AND speechiness>=0.03\n",
              "13  15.944985             energy<0.54 AND instrumentalness>=0.04\n",
              "14  16.351734                                        energy<0.29\n",
              "15  17.125636  instrumentalness>=0.04 AND liveness>=0.08 AND ...\n",
              "16  44.191065  acousticness<0.64 AND energy>=0.42 AND livenes...\n",
              "17  46.419627                                    loudness>=-7.59\n",
              "18  46.452342                                    loudness>=-7.58\n",
              "19  46.820391  danceability>=0.73 AND duration_ms>=197400.0 A...\n",
              "20  48.267943             danceability>=0.73 AND loudness>=-9.49\n",
              "21  48.729585             danceability>=0.73 AND loudness>=-9.53\n",
              "22  49.033704  acousticness<0.64 AND instrumentalness<0.66 AN...\n",
              "23  49.163842  acousticness<0.63 AND instrumentalness<0.66 AN...\n",
              "24  49.381997  acousticness<0.64 AND danceability>=0.34 AND e...\n",
              "25  49.695809  acousticness<0.64 AND duration_ms>=149621.0 AN...\n",
              "26  49.743182  acousticness<0.64 AND instrumentalness<0.04 AN...\n",
              "27  49.951365  acousticness<0.64 AND danceability>=0.73 AND l...\n",
              "28  49.964096  danceability>=0.73 AND energy>=0.42 AND loudne...\n",
              "29  52.727192  acousticness<0.85 AND danceability>=0.73 AND l..."
            ]
          },
          "metadata": {},
          "execution_count": 79
        }
      ]
    },
    {
      "cell_type": "code",
      "metadata": {
        "id": "lySHOwaerOOI"
      },
      "source": [
        "rules_df.to_csv(\"rules_df_songs.csv\",sep = ',',index=False)"
      ],
      "execution_count": null,
      "outputs": []
    }
  ]
}